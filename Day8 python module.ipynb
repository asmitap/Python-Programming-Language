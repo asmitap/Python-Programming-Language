{
 "cells": [
  {
   "cell_type": "markdown",
   "id": "ab845af6",
   "metadata": {},
   "source": [
    "## Python Module\n",
    "A Python module is a file containing Python definitions and statements. A module can define functions, classes, and variables."
   ]
  },
  {
   "cell_type": "markdown",
   "id": "8ffee457",
   "metadata": {},
   "source": [
    "### Types of python module\n",
    "<ul>\n",
    "    <li>Built-in modules</li>\n",
    "    <li>User-defined modules</li>\n",
    "</ul>"
   ]
  },
  {
   "cell_type": "markdown",
   "id": "a6e25d96",
   "metadata": {},
   "source": [
    "## Built-in module"
   ]
  },
  {
   "cell_type": "code",
   "execution_count": 1,
   "id": "631a96f7",
   "metadata": {},
   "outputs": [
    {
     "data": {
      "text/plain": [
       "90"
      ]
     },
     "execution_count": 1,
     "metadata": {},
     "output_type": "execute_result"
    }
   ],
   "source": [
    "# used to generate random number\n",
    "import random\n",
    "random.randint(10,100)"
   ]
  },
  {
   "cell_type": "code",
   "execution_count": 2,
   "id": "24523c5a",
   "metadata": {},
   "outputs": [
    {
     "data": {
      "text/plain": [
       "27"
      ]
     },
     "execution_count": 2,
     "metadata": {},
     "output_type": "execute_result"
    }
   ],
   "source": [
    "# as alias \n",
    "import random as r\n",
    "r.randint(10,100)"
   ]
  },
  {
   "cell_type": "code",
   "execution_count": 3,
   "id": "88f7fbea",
   "metadata": {},
   "outputs": [
    {
     "data": {
      "text/plain": [
       "55"
      ]
     },
     "execution_count": 3,
     "metadata": {},
     "output_type": "execute_result"
    }
   ],
   "source": [
    "# from import statement\n",
    "from random import randint\n",
    "randint(10, 100)"
   ]
  },
  {
   "cell_type": "code",
   "execution_count": 4,
   "id": "553825eb",
   "metadata": {},
   "outputs": [
    {
     "data": {
      "text/plain": [
       "98"
      ]
     },
     "execution_count": 4,
     "metadata": {},
     "output_type": "execute_result"
    }
   ],
   "source": [
    "# from import * statement\n",
    "from random import *\n",
    "randint(10,100)"
   ]
  },
  {
   "cell_type": "markdown",
   "id": "34285100",
   "metadata": {},
   "source": [
    "## User-defined module"
   ]
  },
  {
   "cell_type": "code",
   "execution_count": 5,
   "id": "7be4b203",
   "metadata": {},
   "outputs": [
    {
     "name": "stdout",
     "output_type": "stream",
     "text": [
      "5\n"
     ]
    }
   ],
   "source": [
    "# import from calculation.py file\n",
    "import calculation\n",
    "calculation.addition(2,3)"
   ]
  },
  {
   "cell_type": "code",
   "execution_count": 6,
   "id": "3fec8069",
   "metadata": {},
   "outputs": [
    {
     "name": "stdout",
     "output_type": "stream",
     "text": [
      "5\n"
     ]
    }
   ],
   "source": [
    "# from import statement\n",
    "from calculation import subtraction\n",
    "subtraction(10, 5)"
   ]
  },
  {
   "cell_type": "code",
   "execution_count": 7,
   "id": "f7ac4ee5",
   "metadata": {},
   "outputs": [
    {
     "name": "stdout",
     "output_type": "stream",
     "text": [
      "15\n",
      "5\n",
      "50\n",
      "2.0\n"
     ]
    }
   ],
   "source": [
    "# from import * statement\n",
    "from calculation import *\n",
    "addition(10,5)\n",
    "subtraction(10,5)\n",
    "multiplication(10,5)\n",
    "divide(10,5)"
   ]
  },
  {
   "cell_type": "code",
   "execution_count": 8,
   "id": "bb0fabe9",
   "metadata": {},
   "outputs": [
    {
     "name": "stdout",
     "output_type": "stream",
     "text": [
      "15\n"
     ]
    }
   ],
   "source": [
    "# as alias - used if there are more than one function name or class name \n",
    "from calculation import addition as add\n",
    "add(10,5)"
   ]
  }
 ],
 "metadata": {
  "kernelspec": {
   "display_name": "Python 3 (ipykernel)",
   "language": "python",
   "name": "python3"
  },
  "language_info": {
   "codemirror_mode": {
    "name": "ipython",
    "version": 3
   },
   "file_extension": ".py",
   "mimetype": "text/x-python",
   "name": "python",
   "nbconvert_exporter": "python",
   "pygments_lexer": "ipython3",
   "version": "3.9.12"
  }
 },
 "nbformat": 4,
 "nbformat_minor": 5
}
