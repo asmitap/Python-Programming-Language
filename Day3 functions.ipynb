{
 "cells": [
  {
   "cell_type": "markdown",
   "id": "a427de43",
   "metadata": {},
   "source": [
    "## Function in python\n",
    "<ul>\n",
    "    <li>Code Reuseability</li>\n",
    "    <li>Code Readability</li>\n",
    "</ul>"
   ]
  },
  {
   "cell_type": "markdown",
   "id": "9ff05369",
   "metadata": {},
   "source": [
    "## Types of function\n",
    "<ul>\n",
    "    <li>Standard library function</li>\n",
    "    <li>User-defined function</li>\n",
    "</ul>"
   ]
  },
  {
   "cell_type": "markdown",
   "id": "63558d7d",
   "metadata": {},
   "source": [
    "## User Defined function"
   ]
  },
  {
   "cell_type": "code",
   "execution_count": 1,
   "id": "df1d6ce4",
   "metadata": {},
   "outputs": [
    {
     "name": "stdout",
     "output_type": "stream",
     "text": [
      "The average yiels is: 60.0\n"
     ]
    }
   ],
   "source": [
    "# Average yield of crops\n",
    "def yields(yields_data):\n",
    "    total_yield = 0\n",
    "    for yields in yields_data:\n",
    "        total_yield += yields\n",
    "    average_yield = total_yield/len(yield_data)\n",
    "    #print(\"Average yields is:\", average_yield)\n",
    "    return(average_yield)\n",
    "    \n",
    "yield_data = [40,50,60,70,80]\n",
    "#yields(yield_data)\n",
    "yield_average = yields(yield_data)  \n",
    "print(\"The average yiels is:\", yield_average)"
   ]
  },
  {
   "cell_type": "markdown",
   "id": "a3ca403b",
   "metadata": {},
   "source": [
    "## Lambda function\n",
    "<ul>\n",
    "    <li>Anonymous function</li>\n",
    "    <li>Function without function name</li>\n",
    "    <li>Used to create simple expressions</li>\n",
    "</ul>"
   ]
  },
  {
   "cell_type": "code",
   "execution_count": 2,
   "id": "16d0b4ca",
   "metadata": {},
   "outputs": [
    {
     "name": "stdout",
     "output_type": "stream",
     "text": [
      "Wheat fertilizer requirements: {'N': 50, 'P': 30, 'K': 35}\n",
      "Corn fertilizer requirements: {'N': 70, 'P': 40, 'K': 50}\n"
     ]
    }
   ],
   "source": [
    "#nutrient requirements for each crop\n",
    "nutrient_requirements = {\n",
    "    'wheat': {'N': 100, 'P': 50, 'K': 75},\n",
    "    'corn': {'N': 120, 'P': 60, 'K': 90},\n",
    "}\n",
    "\n",
    "#soil analysis data for a particular field\n",
    "soil_analysis = {'N': 50, 'P': 20, 'K': 40}\n",
    "\n",
    "#lambda function to calculate the required amount of fertilizer\n",
    "calculate_fertilizer = lambda crop: {nutrient: (nutrient_requirements[crop][nutrient] - soil_analysis[nutrient])\n",
    "                                     for nutrient in nutrient_requirements[crop]}\n",
    "\n",
    "# Calculate the required amount of fertilizer for each crop\n",
    "wheat_fertilizer = calculate_fertilizer('wheat')\n",
    "corn_fertilizer = calculate_fertilizer('corn')\n",
    "\n",
    "print('Wheat fertilizer requirements:', wheat_fertilizer)\n",
    "print('Corn fertilizer requirements:', corn_fertilizer)"
   ]
  },
  {
   "cell_type": "code",
   "execution_count": null,
   "id": "1c8c3c62",
   "metadata": {},
   "outputs": [],
   "source": []
  }
 ],
 "metadata": {
  "kernelspec": {
   "display_name": "Python 3 (ipykernel)",
   "language": "python",
   "name": "python3"
  },
  "language_info": {
   "codemirror_mode": {
    "name": "ipython",
    "version": 3
   },
   "file_extension": ".py",
   "mimetype": "text/x-python",
   "name": "python",
   "nbconvert_exporter": "python",
   "pygments_lexer": "ipython3",
   "version": "3.9.12"
  }
 },
 "nbformat": 4,
 "nbformat_minor": 5
}
