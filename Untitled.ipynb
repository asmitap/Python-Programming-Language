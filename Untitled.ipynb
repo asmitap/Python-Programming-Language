{
 "cells": [
  {
   "cell_type": "code",
   "execution_count": 25,
   "id": "859248f8",
   "metadata": {},
   "outputs": [
    {
     "name": "stdout",
     "output_type": "stream",
     "text": [
      "['03', '2023']\n"
     ]
    }
   ],
   "source": [
    "string_date = '2023-03'\n",
    "stri = string_date.split('-')\n",
    "stri.reverse()\n",
    "print(stri)"
   ]
  },
  {
   "cell_type": "code",
   "execution_count": null,
   "id": "624511a8",
   "metadata": {},
   "outputs": [],
   "source": [
    "3210"
   ]
  },
  {
   "cell_type": "code",
   "execution_count": null,
   "id": "c7349ea7",
   "metadata": {},
   "outputs": [],
   "source": []
  },
  {
   "cell_type": "code",
   "execution_count": null,
   "id": "0c9fa5e6",
   "metadata": {},
   "outputs": [],
   "source": []
  }
 ],
 "metadata": {
  "kernelspec": {
   "display_name": "Python 3 (ipykernel)",
   "language": "python",
   "name": "python3"
  },
  "language_info": {
   "codemirror_mode": {
    "name": "ipython",
    "version": 3
   },
   "file_extension": ".py",
   "mimetype": "text/x-python",
   "name": "python",
   "nbconvert_exporter": "python",
   "pygments_lexer": "ipython3",
   "version": "3.9.12"
  }
 },
 "nbformat": 4,
 "nbformat_minor": 5
}
