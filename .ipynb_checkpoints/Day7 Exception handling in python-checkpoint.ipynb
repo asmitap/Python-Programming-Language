{
 "cells": [
  {
   "cell_type": "markdown",
   "id": "d1caa20e",
   "metadata": {},
   "source": [
    "## Exception handling\n",
    "An exception is an error which happens at the time of execution of a program. However, while running a program, Python generates an exception that should be handled to avoid program to crash."
   ]
  },
  {
   "cell_type": "markdown",
   "id": "3ad384c6",
   "metadata": {},
   "source": [
    "## Error type\n",
    "<ul>\n",
    "    <li>Compile time</li>\n",
    "    <li>Logical</li>\n",
    "    <li>Run time</li>\n",
    "</ul>"
   ]
  },
  {
   "cell_type": "code",
   "execution_count": 5,
   "id": "02b2ff4a",
   "metadata": {},
   "outputs": [
    {
     "name": "stdout",
     "output_type": "stream",
     "text": [
      "5.0\n"
     ]
    }
   ],
   "source": [
    "# here is no error\n",
    "a = 10\n",
    "b = 2\n",
    "c = a/b\n",
    "print(c)"
   ]
  },
  {
   "cell_type": "code",
   "execution_count": 14,
   "id": "f8b4aba6",
   "metadata": {},
   "outputs": [
    {
     "ename": "ZeroDivisionError",
     "evalue": "division by zero",
     "output_type": "error",
     "traceback": [
      "\u001b[0;31m---------------------------------------------------------------------------\u001b[0m",
      "\u001b[0;31mZeroDivisionError\u001b[0m                         Traceback (most recent call last)",
      "Input \u001b[0;32mIn [14]\u001b[0m, in \u001b[0;36m<cell line: 4>\u001b[0;34m()\u001b[0m\n\u001b[1;32m      2\u001b[0m a \u001b[38;5;241m=\u001b[39m \u001b[38;5;241m10\u001b[39m\n\u001b[1;32m      3\u001b[0m b \u001b[38;5;241m=\u001b[39m \u001b[38;5;241m0\u001b[39m\n\u001b[0;32m----> 4\u001b[0m c \u001b[38;5;241m=\u001b[39m \u001b[43ma\u001b[49m\u001b[38;5;241;43m/\u001b[39;49m\u001b[43mb\u001b[49m \u001b[38;5;66;03m# execution stop \u001b[39;00m\n\u001b[1;32m      5\u001b[0m \u001b[38;5;28mprint\u001b[39m(c) \n\u001b[1;32m      6\u001b[0m \u001b[38;5;28mprint\u001b[39m(\u001b[38;5;124m\"\u001b[39m\u001b[38;5;124mnew information\u001b[39m\u001b[38;5;124m\"\u001b[39m)\n",
      "\u001b[0;31mZeroDivisionError\u001b[0m: division by zero"
     ]
    }
   ],
   "source": [
    "# Error occured\n",
    "a = 10\n",
    "b = 0\n",
    "c = a/b # execution stop \n",
    "print(c) \n",
    "print(\"new information\")"
   ]
  },
  {
   "cell_type": "markdown",
   "id": "6e30a9f4",
   "metadata": {},
   "source": [
    "## try except"
   ]
  },
  {
   "cell_type": "code",
   "execution_count": 28,
   "id": "7024f89d",
   "metadata": {},
   "outputs": [
    {
     "name": "stdout",
     "output_type": "stream",
     "text": [
      "2.5\n"
     ]
    }
   ],
   "source": [
    "a=5\n",
    "b=2\n",
    "try:\n",
    "    print(a/b)\n",
    "except Exception as e:\n",
    "    print(f'{e}')\n"
   ]
  },
  {
   "cell_type": "code",
   "execution_count": 30,
   "id": "034117a1",
   "metadata": {},
   "outputs": [
    {
     "name": "stdout",
     "output_type": "stream",
     "text": [
      "division by zero\n"
     ]
    }
   ],
   "source": [
    "a=5\n",
    "b=0\n",
    "try:\n",
    "    print(a/b)\n",
    "except Exception as e:\n",
    "    print(f'{e}')"
   ]
  },
  {
   "cell_type": "code",
   "execution_count": 31,
   "id": "3e76f8f9",
   "metadata": {},
   "outputs": [
    {
     "name": "stdout",
     "output_type": "stream",
     "text": [
      "Number can not divided by zero.\n"
     ]
    }
   ],
   "source": [
    "a=5\n",
    "b=0\n",
    "try:\n",
    "    print(a/b)\n",
    "except Exception as e:\n",
    "    print(\"Number can not divided by zero.\") # more informative"
   ]
  },
  {
   "cell_type": "code",
   "execution_count": 40,
   "id": "29b45800",
   "metadata": {},
   "outputs": [
    {
     "name": "stdout",
     "output_type": "stream",
     "text": [
      "Dabatabse connection open\n",
      "Number can not divided by zero.\n"
     ]
    }
   ],
   "source": [
    "# no close operation\n",
    "a=5\n",
    "b=0\n",
    "try:\n",
    "    print(\"Dabatabse connection open\")\n",
    "    print(a/b)\n",
    "    print(\"Dabatabse connection close\")\n",
    "except Exception as e:\n",
    "    print(\"Number can not divided by zero.\")"
   ]
  },
  {
   "cell_type": "code",
   "execution_count": 41,
   "id": "4579fc84",
   "metadata": {},
   "outputs": [
    {
     "name": "stdout",
     "output_type": "stream",
     "text": [
      "Dabatabse connection open\n",
      "Number can not divided by zero.\n",
      "Dabatabse connection close\n"
     ]
    }
   ],
   "source": [
    "# close operation but what if the exception does not occur\n",
    "a=5\n",
    "b=0\n",
    "try:\n",
    "    print(\"Dabatabse connection open\")\n",
    "    print(a/b)\n",
    "except Exception as e:\n",
    "    print(\"Number can not divided by zero.\")\n",
    "    print(\"Dabatabse connection close\")"
   ]
  },
  {
   "cell_type": "code",
   "execution_count": 42,
   "id": "8c7ee544",
   "metadata": {},
   "outputs": [
    {
     "name": "stdout",
     "output_type": "stream",
     "text": [
      "Dabatabse connection open\n",
      "2.5\n"
     ]
    }
   ],
   "source": [
    "a=5\n",
    "b=2\n",
    "try:\n",
    "    print(\"Dabatabse connection open\")\n",
    "    print(a/b)\n",
    "except Exception as e:\n",
    "    print(\"Number can not divided by zero.\")\n",
    "    print(\"Dabatabse connection close\")"
   ]
  },
  {
   "cell_type": "markdown",
   "id": "47a02c38",
   "metadata": {},
   "source": [
    "## else"
   ]
  },
  {
   "cell_type": "code",
   "execution_count": 1,
   "id": "317faa36",
   "metadata": {},
   "outputs": [
    {
     "name": "stdout",
     "output_type": "stream",
     "text": [
      "Dabatabse connection open\n",
      "2.5\n",
      "Dabatabse connection close\n"
     ]
    }
   ],
   "source": [
    "a=5\n",
    "b=2\n",
    "try:\n",
    "    print(\"Dabatabse connection open\")\n",
    "    print(a/b)\n",
    "except ZeroDivisionError as e:\n",
    "    print(\"Can not be divided by zero\")\n",
    "except ValueError as e1:\n",
    "    print(\"Invalid input\")\n",
    "except Exception as e2:\n",
    "    print(\"Something went wrong\")\n",
    "else:\n",
    "    print(\"Dabatabse connection close\")"
   ]
  },
  {
   "cell_type": "code",
   "execution_count": 4,
   "id": "ddbe3206",
   "metadata": {},
   "outputs": [
    {
     "name": "stdout",
     "output_type": "stream",
     "text": [
      "Dabatabse connection open\n",
      "Can not be divided by zero\n"
     ]
    }
   ],
   "source": [
    "# if the exception occur the else condition doesnot executed so use finally\n",
    "a=5\n",
    "b=0\n",
    "try:\n",
    "    print(\"Dabatabse connection open\")\n",
    "    print(a/b)\n",
    "except ZeroDivisionError as e:\n",
    "    print(\"Can not be divided by zero\")\n",
    "else:\n",
    "    print(\"Dabatabse connection close\")"
   ]
  },
  {
   "cell_type": "markdown",
   "id": "9a6c490a",
   "metadata": {},
   "source": [
    "## finally\n",
    "always executed while exception occur or not"
   ]
  },
  {
   "cell_type": "code",
   "execution_count": 43,
   "id": "040ed4b5",
   "metadata": {},
   "outputs": [
    {
     "name": "stdout",
     "output_type": "stream",
     "text": [
      "Dabatabse connection open\n",
      "2.5\n",
      "Dabatabse connection close\n"
     ]
    }
   ],
   "source": [
    "a=5\n",
    "b=2\n",
    "try:\n",
    "    print(\"Dabatabse connection open\")\n",
    "    print(a/b)\n",
    "except Exception as e:\n",
    "    print(\"Number can not divided by zero.\")\n",
    "finally:\n",
    "    print(\"Dabatabse connection close\")"
   ]
  },
  {
   "cell_type": "code",
   "execution_count": 44,
   "id": "732bdaf6",
   "metadata": {},
   "outputs": [
    {
     "name": "stdout",
     "output_type": "stream",
     "text": [
      "Dabatabse connection open\n",
      "Number can not divided by zero.\n",
      "Dabatabse connection close\n"
     ]
    }
   ],
   "source": [
    "a=5\n",
    "b=0\n",
    "try:\n",
    "    print(\"Dabatabse connection open\")\n",
    "    print(a/b)\n",
    "except Exception as e:\n",
    "    print(\"Number can not divided by zero.\")\n",
    "finally:\n",
    "    print(\"Dabatabse connection close\")"
   ]
  },
  {
   "cell_type": "markdown",
   "id": "da258a16",
   "metadata": {},
   "source": [
    "## Specific exception handling"
   ]
  },
  {
   "cell_type": "code",
   "execution_count": 46,
   "id": "b7b81c96",
   "metadata": {},
   "outputs": [
    {
     "name": "stdout",
     "output_type": "stream",
     "text": [
      "Dabatabse connection open\n",
      "division by zero\n",
      "Dabatabse connection close\n"
     ]
    }
   ],
   "source": [
    "a=5\n",
    "b=0\n",
    "try:\n",
    "    print(\"Dabatabse connection open\")\n",
    "    print(a/b)\n",
    "except ZeroDivisionError as e:\n",
    "    print(e)\n",
    "finally:\n",
    "    print(\"Dabatabse connection close\")"
   ]
  },
  {
   "cell_type": "code",
   "execution_count": 51,
   "id": "b80bdc8c",
   "metadata": {},
   "outputs": [
    {
     "name": "stdout",
     "output_type": "stream",
     "text": [
      "Enter a number10\n",
      "Enter a numberas\n"
     ]
    },
    {
     "ename": "ValueError",
     "evalue": "invalid literal for int() with base 10: 'as'",
     "output_type": "error",
     "traceback": [
      "\u001b[0;31m---------------------------------------------------------------------------\u001b[0m",
      "\u001b[0;31mValueError\u001b[0m                                Traceback (most recent call last)",
      "Input \u001b[0;32mIn [51]\u001b[0m, in \u001b[0;36m<cell line: 2>\u001b[0;34m()\u001b[0m\n\u001b[1;32m      1\u001b[0m a\u001b[38;5;241m=\u001b[39m\u001b[38;5;28mint\u001b[39m(\u001b[38;5;28minput\u001b[39m(\u001b[38;5;124m\"\u001b[39m\u001b[38;5;124mEnter a number\u001b[39m\u001b[38;5;124m\"\u001b[39m))\n\u001b[0;32m----> 2\u001b[0m b\u001b[38;5;241m=\u001b[39m\u001b[38;5;28;43mint\u001b[39;49m\u001b[43m(\u001b[49m\u001b[38;5;28;43minput\u001b[39;49m\u001b[43m(\u001b[49m\u001b[38;5;124;43m\"\u001b[39;49m\u001b[38;5;124;43mEnter a number\u001b[39;49m\u001b[38;5;124;43m\"\u001b[39;49m\u001b[43m)\u001b[49m\u001b[43m)\u001b[49m\n\u001b[1;32m      3\u001b[0m \u001b[38;5;28;01mtry\u001b[39;00m:\n\u001b[1;32m      4\u001b[0m     \u001b[38;5;28mprint\u001b[39m(\u001b[38;5;124m\"\u001b[39m\u001b[38;5;124mDabatabse connection open\u001b[39m\u001b[38;5;124m\"\u001b[39m)\n",
      "\u001b[0;31mValueError\u001b[0m: invalid literal for int() with base 10: 'as'"
     ]
    }
   ],
   "source": [
    "a=int(input(\"Enter a number\"))\n",
    "b=int(input(\"Enter a number\"))\n",
    "try:\n",
    "    print(\"Dabatabse connection open\")\n",
    "    print(a/b)\n",
    "except ZeroDivisionError as e:\n",
    "    print(\"Can not be divided by zero\")\n",
    "except ValueError as e1:\n",
    "    print(\"Invalid input\")\n",
    "except Exception as e2:\n",
    "    print(\"Something went wrong\")\n",
    "finally:\n",
    "    print(\"Dabatabse connection close\")"
   ]
  },
  {
   "cell_type": "code",
   "execution_count": null,
   "id": "8efc84e3",
   "metadata": {},
   "outputs": [],
   "source": []
  }
 ],
 "metadata": {
  "kernelspec": {
   "display_name": "Python 3 (ipykernel)",
   "language": "python",
   "name": "python3"
  },
  "language_info": {
   "codemirror_mode": {
    "name": "ipython",
    "version": 3
   },
   "file_extension": ".py",
   "mimetype": "text/x-python",
   "name": "python",
   "nbconvert_exporter": "python",
   "pygments_lexer": "ipython3",
   "version": "3.9.12"
  }
 },
 "nbformat": 4,
 "nbformat_minor": 5
}
