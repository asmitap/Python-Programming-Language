{
 "cells": [
  {
   "cell_type": "markdown",
   "id": "bc03c16d",
   "metadata": {},
   "source": [
    "## Print Function"
   ]
  },
  {
   "cell_type": "code",
   "execution_count": 1,
   "id": "a630c335",
   "metadata": {},
   "outputs": [
    {
     "name": "stdout",
     "output_type": "stream",
     "text": [
      "Nepal is an agricultural country\n"
     ]
    }
   ],
   "source": [
    "print(\"Nepal is an agricultural country\")"
   ]
  },
  {
   "cell_type": "markdown",
   "id": "d296b11a",
   "metadata": {},
   "source": [
    "## Indentation in Python"
   ]
  },
  {
   "cell_type": "code",
   "execution_count": 2,
   "id": "00271ff6",
   "metadata": {},
   "outputs": [
    {
     "ename": "IndentationError",
     "evalue": "expected an indented block (2063319097.py, line 2)",
     "output_type": "error",
     "traceback": [
      "\u001b[0;36m  Input \u001b[0;32mIn [2]\u001b[0;36m\u001b[0m\n\u001b[0;31m    print(\"3 is greater than 2\")\u001b[0m\n\u001b[0m    ^\u001b[0m\n\u001b[0;31mIndentationError\u001b[0m\u001b[0;31m:\u001b[0m expected an indented block\n"
     ]
    }
   ],
   "source": [
    "if 3>2:\n",
    "print(\"3 is greater than 2\")"
   ]
  },
  {
   "cell_type": "code",
   "execution_count": 5,
   "id": "23da51f2",
   "metadata": {},
   "outputs": [
    {
     "name": "stdout",
     "output_type": "stream",
     "text": [
      "3 is greater than 2\n"
     ]
    }
   ],
   "source": [
    "if 3>2:\n",
    "    print(\"3 is greater than 2\")"
   ]
  },
  {
   "cell_type": "markdown",
   "id": "0003e08b",
   "metadata": {},
   "source": [
    "## Comment in python"
   ]
  },
  {
   "cell_type": "code",
   "execution_count": 4,
   "id": "5d11a9db",
   "metadata": {},
   "outputs": [
    {
     "name": "stdout",
     "output_type": "stream",
     "text": [
      "Agriculture sector engages around 66% of the total population in Nepal.\n"
     ]
    }
   ],
   "source": [
    "# Single line comment\n",
    "print(\"Agriculture sector engages around 66% of the total population in Nepal.\")"
   ]
  },
  {
   "cell_type": "code",
   "execution_count": 5,
   "id": "a7c34203",
   "metadata": {},
   "outputs": [
    {
     "name": "stdout",
     "output_type": "stream",
     "text": [
      "A recent study funded by the Climate and Development Knowledge Network (CDKN) revealed that about 0.8% of agricultural GDP is being lost annually due to climate change and extreme events.\n"
     ]
    }
   ],
   "source": [
    "\"\"\" \n",
    "Multi-line comment\n",
    "Out of 2.7 million hectares of agricultural land in Nepal, only 1.3 Mha have irrigation facilities. \n",
    "The majority of irrigation systems are small and medium-scale.\n",
    "\"\"\"\n",
    "print(\"A recent study funded by the Climate and Development Knowledge Network (CDKN) revealed that about 0.8% of agricultural GDP is being lost annually due to climate change and extreme events.\")"
   ]
  },
  {
   "cell_type": "markdown",
   "id": "b8558367",
   "metadata": {},
   "source": [
    "## Variable"
   ]
  },
  {
   "cell_type": "code",
   "execution_count": 13,
   "id": "b296a205",
   "metadata": {},
   "outputs": [
    {
     "name": "stdout",
     "output_type": "stream",
     "text": [
      "kathmandu\n"
     ]
    }
   ],
   "source": [
    "location = \"kathmandu\"\n",
    "print(location)"
   ]
  },
  {
   "cell_type": "markdown",
   "id": "7737335c",
   "metadata": {},
   "source": [
    "## Data Types in Python "
   ]
  },
  {
   "cell_type": "markdown",
   "id": "b86ce360",
   "metadata": {},
   "source": [
    "## Integer"
   ]
  },
  {
   "cell_type": "code",
   "execution_count": 14,
   "id": "4f2a0e96",
   "metadata": {},
   "outputs": [
    {
     "data": {
      "text/plain": [
       "int"
      ]
     },
     "execution_count": 14,
     "metadata": {},
     "output_type": "execute_result"
    }
   ],
   "source": [
    "number = 10\n",
    "type(number)"
   ]
  },
  {
   "cell_type": "markdown",
   "id": "b5cd9ae0",
   "metadata": {},
   "source": [
    "## Float"
   ]
  },
  {
   "cell_type": "code",
   "execution_count": 15,
   "id": "fb0571bb",
   "metadata": {},
   "outputs": [
    {
     "data": {
      "text/plain": [
       "float"
      ]
     },
     "execution_count": 15,
     "metadata": {},
     "output_type": "execute_result"
    }
   ],
   "source": [
    "floatnumber = 10.4\n",
    "type(floatnumber)"
   ]
  },
  {
   "cell_type": "markdown",
   "id": "2834973c",
   "metadata": {},
   "source": [
    "## String "
   ]
  },
  {
   "cell_type": "code",
   "execution_count": 16,
   "id": "bc764920",
   "metadata": {},
   "outputs": [
    {
     "data": {
      "text/plain": [
       "str"
      ]
     },
     "execution_count": 16,
     "metadata": {},
     "output_type": "execute_result"
    }
   ],
   "source": [
    "characters = \"Hello from KTM\"\n",
    "type(characters)"
   ]
  },
  {
   "cell_type": "markdown",
   "id": "3fafed1b",
   "metadata": {},
   "source": [
    "## list\n",
    "<ul>\n",
    "    <li>Ordered</li>\n",
    "    <li>Changeable</li>\n",
    "    <li>Allow Duplications</li>\n",
    "<ul>"
   ]
  },
  {
   "cell_type": "code",
   "execution_count": 17,
   "id": "49e4e949",
   "metadata": {},
   "outputs": [
    {
     "data": {
      "text/plain": [
       "list"
      ]
     },
     "execution_count": 17,
     "metadata": {},
     "output_type": "execute_result"
    }
   ],
   "source": [
    "data = [1,2,3,4]\n",
    "type(data)"
   ]
  },
  {
   "cell_type": "markdown",
   "id": "ac916f82",
   "metadata": {},
   "source": [
    "## Tuple\n",
    "<ul>\n",
    "    <li>Ordered</li>\n",
    "    <li>Unchangeable</li>\n",
    "    <li>Allow Duplications</li>\n",
    "<ul>"
   ]
  },
  {
   "cell_type": "code",
   "execution_count": 19,
   "id": "d1f0a8df",
   "metadata": {},
   "outputs": [
    {
     "data": {
      "text/plain": [
       "tuple"
      ]
     },
     "execution_count": 19,
     "metadata": {},
     "output_type": "execute_result"
    }
   ],
   "source": [
    "data = (1,2,3,4)\n",
    "type(data)"
   ]
  },
  {
   "cell_type": "markdown",
   "id": "ddfe2d8f",
   "metadata": {},
   "source": [
    "## Dictionary\n",
    "<ul>\n",
    "    <li>Ordered or Unordered</li>\n",
    "    <li>Changeable</li>\n",
    "    <li>Duplication not Allows</li>\n",
    "<ul>"
   ]
  },
  {
   "cell_type": "code",
   "execution_count": 21,
   "id": "0bdb34d8",
   "metadata": {},
   "outputs": [
    {
     "data": {
      "text/plain": [
       "dict"
      ]
     },
     "execution_count": 21,
     "metadata": {},
     "output_type": "execute_result"
    }
   ],
   "source": [
    "data = {\"key1\":1, \"key2\":2}\n",
    "type(data)"
   ]
  },
  {
   "cell_type": "markdown",
   "id": "260eb7cf",
   "metadata": {},
   "source": [
    "## Set\n",
    "<ul>\n",
    "    <li>Unordered</li>\n",
    "    <li>Unchangeable</li>\n",
    "    <li>Duplication not allows</li>\n",
    "<ul>"
   ]
  },
  {
   "cell_type": "code",
   "execution_count": 23,
   "id": "3c4393fe",
   "metadata": {},
   "outputs": [
    {
     "data": {
      "text/plain": [
       "set"
      ]
     },
     "execution_count": 23,
     "metadata": {},
     "output_type": "execute_result"
    }
   ],
   "source": [
    "data = {\"data1\", \"data2\", \"data3\"}\n",
    "type(data)"
   ]
  },
  {
   "cell_type": "markdown",
   "id": "8a0e2bf7",
   "metadata": {},
   "source": [
    "## Type Casting"
   ]
  },
  {
   "cell_type": "code",
   "execution_count": 28,
   "id": "8d09cb73",
   "metadata": {},
   "outputs": [
    {
     "name": "stdout",
     "output_type": "stream",
     "text": [
      "<class 'int'>\n",
      "<class 'float'>\n"
     ]
    }
   ],
   "source": [
    "data = 1\n",
    "print(type(data))\n",
    "\n",
    "data1 = float(1)\n",
    "print(type(data1))"
   ]
  },
  {
   "cell_type": "code",
   "execution_count": null,
   "id": "f5fa123c",
   "metadata": {},
   "outputs": [],
   "source": []
  }
 ],
 "metadata": {
  "kernelspec": {
   "display_name": "Python 3 (ipykernel)",
   "language": "python",
   "name": "python3"
  },
  "language_info": {
   "codemirror_mode": {
    "name": "ipython",
    "version": 3
   },
   "file_extension": ".py",
   "mimetype": "text/x-python",
   "name": "python",
   "nbconvert_exporter": "python",
   "pygments_lexer": "ipython3",
   "version": "3.9.12"
  }
 },
 "nbformat": 4,
 "nbformat_minor": 5
}
