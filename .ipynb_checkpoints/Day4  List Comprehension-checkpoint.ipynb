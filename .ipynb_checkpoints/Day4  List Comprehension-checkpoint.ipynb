{
 "cells": [
  {
   "cell_type": "markdown",
   "id": "5635798f",
   "metadata": {},
   "source": [
    "## List Comprehension\n",
    "<ul>\n",
    "    <li>It offers a shorter syntax when we want to create a new list based on the values of an existing list. </li>\n",
    "</ul>"
   ]
  },
  {
   "cell_type": "markdown",
   "id": "6b8331c0",
   "metadata": {},
   "source": [
    "## Without using list comprehension"
   ]
  },
  {
   "cell_type": "code",
   "execution_count": 3,
   "id": "79197506",
   "metadata": {},
   "outputs": [
    {
     "name": "stdout",
     "output_type": "stream",
     "text": [
      "['apple', 'banana', 'mango']\n"
     ]
    }
   ],
   "source": [
    "# Fruits name having a letter\n",
    "fruits = [\"apple\", \"banana\", \"cherry\", \"kiwi\", \"mango\"]\n",
    "newlist = []\n",
    "for x in fruits:\n",
    "  if \"a\" in x:\n",
    "    newlist.append(x)\n",
    "print(newlist)"
   ]
  },
  {
   "cell_type": "markdown",
   "id": "d018a238",
   "metadata": {},
   "source": [
    "## Using List Comprehensions"
   ]
  },
  {
   "cell_type": "code",
   "execution_count": 2,
   "id": "db7212f9",
   "metadata": {},
   "outputs": [
    {
     "name": "stdout",
     "output_type": "stream",
     "text": [
      "['apple', 'banana', 'mango']\n"
     ]
    }
   ],
   "source": [
    "fruits = [\"apple\", \"banana\", \"cherry\", \"kiwi\", \"mango\"]\n",
    "newlist = [x for x in fruits if \"a\" in x]\n",
    "print(newlist) "
   ]
  },
  {
   "cell_type": "markdown",
   "id": "053e15f6",
   "metadata": {},
   "source": [
    "## Lambda Function\n",
    "<ul><li>It is the shorthand representations of Python functions. Using list comprehensions with lambda creates an efficient combination. </li></ul>"
   ]
  },
  {
   "cell_type": "markdown",
   "id": "1200be61",
   "metadata": {},
   "source": [
    "## Without using List Compressions"
   ]
  },
  {
   "cell_type": "code",
   "execution_count": 7,
   "id": "f7878d2f",
   "metadata": {},
   "outputs": [
    {
     "name": "stdout",
     "output_type": "stream",
     "text": [
      "[10, 20, 30, 40, 50]\n"
     ]
    }
   ],
   "source": [
    "#print table of 10\n",
    "numbers = []\n",
    "for i in range(1, 6):\n",
    "    numbers.append(i*10)\n",
    "print(numbers)"
   ]
  },
  {
   "cell_type": "markdown",
   "id": "72fc5bef",
   "metadata": {},
   "source": [
    "## Using List Compression"
   ]
  },
  {
   "cell_type": "code",
   "execution_count": 5,
   "id": "f16e680d",
   "metadata": {},
   "outputs": [
    {
     "name": "stdout",
     "output_type": "stream",
     "text": [
      "[10, 20, 30, 40, 50]\n"
     ]
    }
   ],
   "source": [
    "numbers = [i*10 for i in range(1, 6)]\n",
    "print(numbers)"
   ]
  },
  {
   "cell_type": "markdown",
   "id": "bcace4f5",
   "metadata": {},
   "source": [
    "## Using Lambda Function"
   ]
  },
  {
   "cell_type": "code",
   "execution_count": 6,
   "id": "46599678",
   "metadata": {},
   "outputs": [
    {
     "name": "stdout",
     "output_type": "stream",
     "text": [
      "[10, 20, 30, 40, 50]\n"
     ]
    }
   ],
   "source": [
    "# using lambda to print table of 10\n",
    "numbers = list(map(lambda i: i*10, [i for i in range(1, 6)]))\n",
    "print(numbers)"
   ]
  },
  {
   "cell_type": "code",
   "execution_count": null,
   "id": "022ae182",
   "metadata": {},
   "outputs": [],
   "source": []
  }
 ],
 "metadata": {
  "kernelspec": {
   "display_name": "Python 3 (ipykernel)",
   "language": "python",
   "name": "python3"
  },
  "language_info": {
   "codemirror_mode": {
    "name": "ipython",
    "version": 3
   },
   "file_extension": ".py",
   "mimetype": "text/x-python",
   "name": "python",
   "nbconvert_exporter": "python",
   "pygments_lexer": "ipython3",
   "version": "3.9.12"
  }
 },
 "nbformat": 4,
 "nbformat_minor": 5
}
