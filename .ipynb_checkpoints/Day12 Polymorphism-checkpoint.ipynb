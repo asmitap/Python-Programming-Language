{
 "cells": [
  {
   "cell_type": "markdown",
   "id": "4e2b7b82",
   "metadata": {},
   "source": [
    "## Polymorphism\n",
    "polymorphisms refer to the occurrence of something in multiple forms."
   ]
  },
  {
   "cell_type": "markdown",
   "id": "3cb1f3f3",
   "metadata": {},
   "source": [
    "## Duck typing\n",
    "Duck typing is derived from the quote which says \"something that walks like a duck, quacks like a duck and swims like a duck is called a duck \". "
   ]
  },
  {
   "cell_type": "code",
   "execution_count": 5,
   "id": "cdfdbacc",
   "metadata": {},
   "outputs": [
    {
     "name": "stdout",
     "output_type": "stream",
     "text": [
      "The growth stage of maize is v1\n",
      "The growth stage of maize is v2\n"
     ]
    },
    {
     "ename": "AttributeError",
     "evalue": "'Maize1' object has no attribute 'set_growth_stage'",
     "output_type": "error",
     "traceback": [
      "\u001b[0;31m---------------------------------------------------------------------------\u001b[0m",
      "\u001b[0;31mAttributeError\u001b[0m                            Traceback (most recent call last)",
      "Input \u001b[0;32mIn [5]\u001b[0m, in \u001b[0;36m<cell line: 14>\u001b[0;34m()\u001b[0m\n\u001b[1;32m     13\u001b[0m \u001b[38;5;66;03m# Attributes having same name are considered as duck typing\u001b[39;00m\n\u001b[1;32m     14\u001b[0m \u001b[38;5;28;01mfor\u001b[39;00m obj \u001b[38;5;129;01min\u001b[39;00m Maize(), HybridMaize(), Maize1():\n\u001b[0;32m---> 15\u001b[0m   \u001b[43mobj\u001b[49m\u001b[38;5;241;43m.\u001b[39;49m\u001b[43mset_growth_stage\u001b[49m()\n",
      "\u001b[0;31mAttributeError\u001b[0m: 'Maize1' object has no attribute 'set_growth_stage'"
     ]
    }
   ],
   "source": [
    "class Maize:\n",
    "    def set_growth_stage(self):\n",
    "        print(\"The growth stage of maize is v1\")\n",
    "        \n",
    "class HybridMaize(Maize):\n",
    "    def set_growth_stage(self):\n",
    "        print(\"The growth stage of maize is v2\")\n",
    "        \n",
    "class Maize1:\n",
    "    def get_variety(self):\n",
    "        print(\"The maize is maize1\")\n",
    "        \n",
    "# Attributes having same name are considered as duck typing\n",
    "for obj in Maize(), HybridMaize(), Maize1():\n",
    "  obj.set_growth_stage()\n"
   ]
  },
  {
   "cell_type": "markdown",
   "id": "8a101673",
   "metadata": {},
   "source": [
    "## Operator Overloading\n",
    "'+' opearator is used for both number and string"
   ]
  },
  {
   "cell_type": "code",
   "execution_count": 6,
   "id": "11cf7666",
   "metadata": {},
   "outputs": [
    {
     "name": "stdout",
     "output_type": "stream",
     "text": [
      "Sum is: 16\n",
      "Sum is: hectare_acre\n"
     ]
    }
   ],
   "source": [
    "# yield of maize\n",
    "class Test:\n",
    "    def add(self, a, b):\n",
    "        s = a + b\n",
    "        return s\n",
    "    \n",
    "obj = Test()\n",
    "s = obj.add(6, 10)\n",
    "s1 = obj.add(\"hectare\",\"_acre\")\n",
    "print(\"Sum is:\", s)\n",
    "print(\"Sum is:\", s1)\n"
   ]
  },
  {
   "cell_type": "markdown",
   "id": "bbc49631",
   "metadata": {},
   "source": [
    "## Method Overloading\n",
    "We can call the same method in different ways, i.e. with different parameters based on the number of arguments or their different datatypes. "
   ]
  },
  {
   "cell_type": "code",
   "execution_count": 7,
   "id": "3e62715a",
   "metadata": {},
   "outputs": [
    {
     "name": "stdout",
     "output_type": "stream",
     "text": [
      "No area exist\n",
      "Area of square : 100\n",
      "Area of Rectangle: 200\n"
     ]
    }
   ],
   "source": [
    "class area:\n",
    "    def get_area(self, a=None, b=None):\n",
    "        if (a != None and b != None):\n",
    "            print(\"Area of Rectangle:\", (a * b))\n",
    "        elif a != None:\n",
    "            print(\"Area of square :\", (a * a))\n",
    "        else:\n",
    "            print(\"No area exist\")\n",
    "            \n",
    "obj=area()\n",
    "obj.get_area()\n",
    "obj.get_area(10)\n",
    "obj.get_area(10,20)"
   ]
  },
  {
   "cell_type": "markdown",
   "id": "c8e24fb4",
   "metadata": {},
   "source": [
    "## Method Overriding\n",
    "It subclass or child class to provide a specific implementation of a method that is already provided by one of its super-classes or parent classes. When a method in a subclass has the same name, same parameters or signature and same return type(or sub-type) as a method in its super-class, then the method in the subclass is said to override the method in the super-class"
   ]
  },
  {
   "cell_type": "code",
   "execution_count": 4,
   "id": "5f6a17ef",
   "metadata": {},
   "outputs": [
    {
     "name": "stdout",
     "output_type": "stream",
     "text": [
      "Saves Energy\n",
      "Run on Electricity\n"
     ]
    }
   ],
   "source": [
    "class Vehicle:\n",
    "     def run(self):\n",
    "         print(\"Saves Energy\")\n",
    "        \n",
    "class EV(Vehicle):\n",
    "    def run(self):\n",
    "        super().run()\n",
    "        print(\"Run on Electricity\")\n",
    "        \n",
    "ev = EV()\n",
    "ev.run()"
   ]
  }
 ],
 "metadata": {
  "kernelspec": {
   "display_name": "Python 3 (ipykernel)",
   "language": "python",
   "name": "python3"
  },
  "language_info": {
   "codemirror_mode": {
    "name": "ipython",
    "version": 3
   },
   "file_extension": ".py",
   "mimetype": "text/x-python",
   "name": "python",
   "nbconvert_exporter": "python",
   "pygments_lexer": "ipython3",
   "version": "3.9.12"
  }
 },
 "nbformat": 4,
 "nbformat_minor": 5
}
