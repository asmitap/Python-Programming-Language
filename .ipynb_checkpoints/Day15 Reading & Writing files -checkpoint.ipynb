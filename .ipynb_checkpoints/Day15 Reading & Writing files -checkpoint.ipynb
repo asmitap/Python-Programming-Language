{
 "cells": [
  {
   "cell_type": "markdown",
   "id": "90b91410",
   "metadata": {},
   "source": [
    "## Reading file"
   ]
  },
  {
   "cell_type": "markdown",
   "id": "da310b3f",
   "metadata": {},
   "source": [
    "## read()\n",
    "It return entire content of file"
   ]
  },
  {
   "cell_type": "code",
   "execution_count": 1,
   "id": "70bb93a2",
   "metadata": {},
   "outputs": [
    {
     "name": "stdout",
     "output_type": "stream",
     "text": [
      "This platform will also be channeled to gather/explore all the historical agriculture research publications by encouraging its potential users to share any information on agricultural sector.This is an effort to digitize all available publication, historical data and research materials that are published by NARC and its different offices, Nepal Agricultural Research Service Center (NARSC), Lumle Agricultural Center (LAC), Pakhribas Agricultural Center (PAC) and other related organization and institutions. In addition, NARC KMS aims to bring wider stakeholders related to agricultural research and development in one platform in order to intensify the constructive criticism and suggestions which will ultimately benefits the agricultural production in Nepal.This is an effort to digitize all available publication, historical data and research materials that are published by NARC and its different offices, Nepal Agricultural Research Service Center (NARSC), Lumle Agricultural Center (LAC), Pakhribas Agricultural Center (PAC) and other related organization and institutions. In addition, NARC KMS aims to bring wider stakeholders related to agricultural research and development in one platform in order to intensify the constructive criticism and suggestions which will ultimately benefits the agricultural production in Nepal.\n"
     ]
    }
   ],
   "source": [
    "# open the file with the mode r which means \"read\"\n",
    "my_file = open('test.txt', mode = 'r')\n",
    "# read the content of the file storing it in a variable called data\n",
    "data = my_file.read()\n",
    "print(data)\n",
    "# close the connection\n",
    "my_file.close()"
   ]
  },
  {
   "cell_type": "markdown",
   "id": "d81c8021",
   "metadata": {},
   "source": [
    "## readline()\n",
    "It return the line of the file"
   ]
  },
  {
   "cell_type": "code",
   "execution_count": 2,
   "id": "031af39a",
   "metadata": {},
   "outputs": [
    {
     "name": "stdout",
     "output_type": "stream",
     "text": [
      "This platform will also be channeled to gather/explore all the historical agriculture research publications by encouraging its potential users to share any information on agricultural sector.This is an effort to digitize all available publication, historical data and research materials that are published by NARC and its different offices, Nepal Agricultural Research Service Center (NARSC), Lumle Agricultural Center (LAC), Pakhribas Agricultural Center (PAC) and other related organization and institutions. In addition, NARC KMS aims to bring wider stakeholders related to agricultural research and development in one platform in order to intensify the constructive criticism and suggestions which will ultimately benefits the agricultural production in Nepal.This is an effort to digitize all available publication, historical data and research materials that are published by NARC and its different offices, Nepal Agricultural Research Service Center (NARSC), Lumle Agricultural Center (LAC), Pakhribas Agricultural Center (PAC) and other related organization and institutions. In addition, NARC KMS aims to bring wider stakeholders related to agricultural research and development in one platform in order to intensify the constructive criticism and suggestions which will ultimately benefits the agricultural production in Nepal.\n"
     ]
    }
   ],
   "source": [
    "with open('test.txt', mode = 'r') as my_file:\n",
    "    data = my_file.readline()\n",
    "    print(data)"
   ]
  },
  {
   "cell_type": "markdown",
   "id": "ee943cd0",
   "metadata": {},
   "source": [
    "## readlines()\n",
    "It return entire content as the list, each element corresponds to a line"
   ]
  },
  {
   "cell_type": "code",
   "execution_count": 3,
   "id": "aa3b0390",
   "metadata": {},
   "outputs": [
    {
     "name": "stdout",
     "output_type": "stream",
     "text": [
      "['This platform will also be channeled to gather/explore all the historical agriculture research publications by encouraging its potential users to share any information on agricultural sector.This is an effort to digitize all available publication, historical data and research materials that are published by NARC and its different offices, Nepal Agricultural Research Service Center (NARSC), Lumle Agricultural Center (LAC), Pakhribas Agricultural Center (PAC) and other related organization and institutions. In addition, NARC KMS aims to bring wider stakeholders related to agricultural research and development in one platform in order to intensify the constructive criticism and suggestions which will ultimately benefits the agricultural production in Nepal.This is an effort to digitize all available publication, historical data and research materials that are published by NARC and its different offices, Nepal Agricultural Research Service Center (NARSC), Lumle Agricultural Center (LAC), Pakhribas Agricultural Center (PAC) and other related organization and institutions. In addition, NARC KMS aims to bring wider stakeholders related to agricultural research and development in one platform in order to intensify the constructive criticism and suggestions which will ultimately benefits the agricultural production in Nepal.']\n"
     ]
    }
   ],
   "source": [
    "with open('test.txt', mode = 'r') as my_file:\n",
    "    \n",
    "    data = my_file.readlines()\n",
    "    print(data)"
   ]
  },
  {
   "cell_type": "markdown",
   "id": "1dabb528",
   "metadata": {},
   "source": [
    "## Writing file\n",
    "It made new file if doesnot exist and replace the old text in the file."
   ]
  },
  {
   "cell_type": "code",
   "execution_count": 4,
   "id": "2e9999a4",
   "metadata": {},
   "outputs": [],
   "source": [
    "\n",
    "with open('test.txt', mode='w') as my_file:\n",
    "    # add text to the new file\n",
    "    my_file.write('This platform will also be channeled to gather/explore all the historical agriculture research publications by encouraging its potential users to share any information on agricultural sector.')"
   ]
  },
  {
   "cell_type": "code",
   "execution_count": 5,
   "id": "131b8819",
   "metadata": {},
   "outputs": [
    {
     "name": "stdout",
     "output_type": "stream",
     "text": [
      "This platform will also be channeled to gather/explore all the historical agriculture research publications by encouraging its potential users to share any information on agricultural sector.\n"
     ]
    }
   ],
   "source": [
    "with open('test.txt', mode = 'r') as my_file:\n",
    "    data = my_file.read()\n",
    "    print(data)"
   ]
  },
  {
   "cell_type": "markdown",
   "id": "31d4ca25",
   "metadata": {},
   "source": [
    "## Append file\n",
    "It append the text on the file."
   ]
  },
  {
   "cell_type": "code",
   "execution_count": 6,
   "id": "aa652fcf",
   "metadata": {},
   "outputs": [],
   "source": [
    "with open('test.txt', mode='a') as my_file:\n",
    "    \n",
    "    # append new lines\n",
    "    my_file.writelines('This is an effort to digitize all available publication, historical data and research materials that are published by NARC and its different offices, Nepal Agricultural Research Service Center (NARSC), Lumle Agricultural Center (LAC), Pakhribas Agricultural Center (PAC) and other related organization and institutions. In addition, NARC KMS aims to bring wider stakeholders related to agricultural research and development in one platform in order to intensify the constructive criticism and suggestions which will ultimately benefits the agricultural production in Nepal.')"
   ]
  },
  {
   "cell_type": "code",
   "execution_count": 7,
   "id": "718ddd91",
   "metadata": {},
   "outputs": [
    {
     "name": "stdout",
     "output_type": "stream",
     "text": [
      "This platform will also be channeled to gather/explore all the historical agriculture research publications by encouraging its potential users to share any information on agricultural sector.This is an effort to digitize all available publication, historical data and research materials that are published by NARC and its different offices, Nepal Agricultural Research Service Center (NARSC), Lumle Agricultural Center (LAC), Pakhribas Agricultural Center (PAC) and other related organization and institutions. In addition, NARC KMS aims to bring wider stakeholders related to agricultural research and development in one platform in order to intensify the constructive criticism and suggestions which will ultimately benefits the agricultural production in Nepal.\n"
     ]
    }
   ],
   "source": [
    "with open('test.txt', mode = 'r') as my_file:\n",
    "    data = my_file.read()\n",
    "    print(data)"
   ]
  },
  {
   "cell_type": "markdown",
   "id": "6740dbfe",
   "metadata": {},
   "source": [
    "## Exception handling"
   ]
  },
  {
   "cell_type": "code",
   "execution_count": 8,
   "id": "167139bc",
   "metadata": {},
   "outputs": [
    {
     "name": "stdout",
     "output_type": "stream",
     "text": [
      "File not found\n"
     ]
    }
   ],
   "source": [
    "try:\n",
    "    with open('nonexisting.txt', mode = 'r') as my_file:\n",
    "        data = my_file.readline()\n",
    "        print(data)\n",
    "except FileNotFoundError as e:\n",
    "    print(\"File not found\")"
   ]
  },
  {
   "cell_type": "code",
   "execution_count": 10,
   "id": "c4a44c11",
   "metadata": {},
   "outputs": [
    {
     "name": "stdout",
     "output_type": "stream",
     "text": [
      "This platform will also be channeled to gather/explore all the historical agriculture research publications by encouraging its potential users to share any information on agricultural sector.This is an effort to digitize all available publication, historical data and research materials that are published by NARC and its different offices, Nepal Agricultural Research Service Center (NARSC), Lumle Agricultural Center (LAC), Pakhribas Agricultural Center (PAC) and other related organization and institutions. In addition, NARC KMS aims to bring wider stakeholders related to agricultural research and development in one platform in order to intensify the constructive criticism and suggestions which will ultimately benefits the agricultural production in Nepal.\n"
     ]
    }
   ],
   "source": [
    "try:\n",
    "    with open('test.txt', mode = 'r') as my_file:\n",
    "        data = my_file.readline()\n",
    "        print(data)\n",
    "except FileNotFoundError as e:\n",
    "    print(\"File not found\")"
   ]
  },
  {
   "cell_type": "code",
   "execution_count": null,
   "id": "a1dcd903",
   "metadata": {},
   "outputs": [],
   "source": []
  }
 ],
 "metadata": {
  "kernelspec": {
   "display_name": "Python 3 (ipykernel)",
   "language": "python",
   "name": "python3"
  },
  "language_info": {
   "codemirror_mode": {
    "name": "ipython",
    "version": 3
   },
   "file_extension": ".py",
   "mimetype": "text/x-python",
   "name": "python",
   "nbconvert_exporter": "python",
   "pygments_lexer": "ipython3",
   "version": "3.9.12"
  }
 },
 "nbformat": 4,
 "nbformat_minor": 5
}
