{
 "cells": [
  {
   "cell_type": "markdown",
   "id": "7d510e6d",
   "metadata": {},
   "source": [
    "## Python Module\n",
    "A Python module is a file containing Python definitions and statements. A module can define functions, classes, and variables."
   ]
  },
  {
   "cell_type": "markdown",
   "id": "5ad1f18d",
   "metadata": {},
   "source": [
    "### Types of python module\n",
    "<ul>\n",
    "    <li>Built-in modules</li>\n",
    "    <li>User-defined modules</li>\n",
    "</ul>"
   ]
  },
  {
   "cell_type": "markdown",
   "id": "676f1389",
   "metadata": {},
   "source": [
    "## Built-in module"
   ]
  },
  {
   "cell_type": "code",
   "execution_count": 3,
   "id": "fcef3702",
   "metadata": {},
   "outputs": [
    {
     "data": {
      "text/plain": [
       "84"
      ]
     },
     "execution_count": 3,
     "metadata": {},
     "output_type": "execute_result"
    }
   ],
   "source": [
    "# used to generate random number\n",
    "import random\n",
    "random.randint(10,100)"
   ]
  },
  {
   "cell_type": "code",
   "execution_count": 4,
   "id": "57d6d812",
   "metadata": {},
   "outputs": [
    {
     "data": {
      "text/plain": [
       "94"
      ]
     },
     "execution_count": 4,
     "metadata": {},
     "output_type": "execute_result"
    }
   ],
   "source": [
    "# as alias \n",
    "import random as r\n",
    "r.randint(10,100)"
   ]
  },
  {
   "cell_type": "code",
   "execution_count": 5,
   "id": "db0e5b87",
   "metadata": {},
   "outputs": [
    {
     "data": {
      "text/plain": [
       "72"
      ]
     },
     "execution_count": 5,
     "metadata": {},
     "output_type": "execute_result"
    }
   ],
   "source": [
    "# from import statement\n",
    "from random import randint\n",
    "randint(10, 100)"
   ]
  },
  {
   "cell_type": "code",
   "execution_count": 6,
   "id": "4fa45fe0",
   "metadata": {},
   "outputs": [
    {
     "data": {
      "text/plain": [
       "31"
      ]
     },
     "execution_count": 6,
     "metadata": {},
     "output_type": "execute_result"
    }
   ],
   "source": [
    "# from import * statement\n",
    "from random import *\n",
    "randint(10,100)"
   ]
  },
  {
   "cell_type": "markdown",
   "id": "db4a0987",
   "metadata": {},
   "source": [
    "## User-defined module"
   ]
  },
  {
   "cell_type": "code",
   "execution_count": 8,
   "id": "05876b0b",
   "metadata": {},
   "outputs": [
    {
     "name": "stdout",
     "output_type": "stream",
     "text": [
      "5\n"
     ]
    }
   ],
   "source": [
    "# import from calculation.py file\n",
    "import calculation\n",
    "calculation.addition(2,3)"
   ]
  },
  {
   "cell_type": "code",
   "execution_count": 10,
   "id": "891883d0",
   "metadata": {},
   "outputs": [
    {
     "name": "stdout",
     "output_type": "stream",
     "text": [
      "5\n"
     ]
    }
   ],
   "source": [
    "# from import statement\n",
    "from calculation import subtraction\n",
    "subtraction(10, 5)"
   ]
  },
  {
   "cell_type": "code",
   "execution_count": 12,
   "id": "2bfc5af2",
   "metadata": {},
   "outputs": [
    {
     "name": "stdout",
     "output_type": "stream",
     "text": [
      "15\n",
      "5\n",
      "50\n"
     ]
    },
    {
     "ename": "NameError",
     "evalue": "name 'div' is not defined",
     "output_type": "error",
     "traceback": [
      "\u001b[0;31m---------------------------------------------------------------------------\u001b[0m",
      "\u001b[0;31mNameError\u001b[0m                                 Traceback (most recent call last)",
      "Input \u001b[0;32mIn [12]\u001b[0m, in \u001b[0;36m<cell line: 6>\u001b[0;34m()\u001b[0m\n\u001b[1;32m      4\u001b[0m subtraction(\u001b[38;5;241m10\u001b[39m,\u001b[38;5;241m5\u001b[39m)\n\u001b[1;32m      5\u001b[0m multiplication(\u001b[38;5;241m10\u001b[39m,\u001b[38;5;241m5\u001b[39m)\n\u001b[0;32m----> 6\u001b[0m \u001b[43mdiv\u001b[49m(\u001b[38;5;241m10\u001b[39m,\u001b[38;5;241m5\u001b[39m)\n",
      "\u001b[0;31mNameError\u001b[0m: name 'div' is not defined"
     ]
    }
   ],
   "source": [
    "# from import * statement\n",
    "from calculation import *\n",
    "addition(10,5)\n",
    "subtraction(10,5)\n",
    "multiplication(10,5)\n",
    "division(10,5)"
   ]
  },
  {
   "cell_type": "code",
   "execution_count": null,
   "id": "71e136d2",
   "metadata": {},
   "outputs": [],
   "source": []
  }
 ],
 "metadata": {
  "kernelspec": {
   "display_name": "Python 3 (ipykernel)",
   "language": "python",
   "name": "python3"
  },
  "language_info": {
   "codemirror_mode": {
    "name": "ipython",
    "version": 3
   },
   "file_extension": ".py",
   "mimetype": "text/x-python",
   "name": "python",
   "nbconvert_exporter": "python",
   "pygments_lexer": "ipython3",
   "version": "3.9.12"
  }
 },
 "nbformat": 4,
 "nbformat_minor": 5
}
