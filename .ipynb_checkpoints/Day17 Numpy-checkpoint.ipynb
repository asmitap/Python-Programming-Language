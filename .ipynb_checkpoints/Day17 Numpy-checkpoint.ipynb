{
 "cells": [
  {
   "cell_type": "markdown",
   "id": "23b0812f",
   "metadata": {},
   "source": [
    "## NumPy is faster than List\n",
    "\n",
    "Numpy uses contiguous blocks of memory for storing its data. This means that NumPy can access elements in its array more efficiently than a list because the data is stored in a single block of memory, which allows for faster memory access and improved performance."
   ]
  }
 ],
 "metadata": {
  "kernelspec": {
   "display_name": "Python 3 (ipykernel)",
   "language": "python",
   "name": "python3"
  },
  "language_info": {
   "codemirror_mode": {
    "name": "ipython",
    "version": 3
   },
   "file_extension": ".py",
   "mimetype": "text/x-python",
   "name": "python",
   "nbconvert_exporter": "python",
   "pygments_lexer": "ipython3",
   "version": "3.9.12"
  }
 },
 "nbformat": 4,
 "nbformat_minor": 5
}
