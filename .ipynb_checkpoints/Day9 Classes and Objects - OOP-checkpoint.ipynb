{
 "cells": [
  {
   "cell_type": "markdown",
   "id": "3161b388",
   "metadata": {},
   "source": [
    "## Classes and Objects - OOP"
   ]
  },
  {
   "cell_type": "code",
   "execution_count": 3,
   "id": "bcb86675",
   "metadata": {},
   "outputs": [
    {
     "name": "stdout",
     "output_type": "stream",
     "text": [
      "Warm and Moist\n"
     ]
    }
   ],
   "source": [
    "# Check Soil moisture using sensor data\n",
    "# class\n",
    "class SoilSensor:\n",
    "    def __init__(self, location): # constructor-initialize when object calls\n",
    "        \"\"\"SELF represents the instance of class. This handy keyword allows you to access \n",
    "        variables, attributes, and methods of a defined class in Python.\"\"\" \n",
    "        self.location = location\n",
    "        self.soil_moisture = 0\n",
    "        self.soil_temperature = 0\n",
    "    \n",
    "    def read_moisture(self, value):\n",
    "        self.soil_moisture = value\n",
    "        \n",
    "    def read_temperature(self, value):\n",
    "        self.soil_temperature = value\n",
    "        \n",
    "    def get_status(self):\n",
    "        if self.soil_moisture < 25:\n",
    "            return \"Dry\"\n",
    "        elif self.soil_moisture < 50:\n",
    "            if self.soil_temperature < 20:\n",
    "                return \"Cold and Moist\"\n",
    "            elif self.soil_temperature < 30:\n",
    "                return \"Warm and Moist\"\n",
    "            else:\n",
    "                return \"Hot and Moist\"\n",
    "        else:\n",
    "            return \"Wet\"\n",
    "sensor1 = SoilSensor(\"Kathmandu\") #object\n",
    "sensor1.read_moisture(35)\n",
    "sensor1.read_temperature(25)\n",
    "print(sensor1.get_status())\n"
   ]
  },
  {
   "cell_type": "code",
   "execution_count": null,
   "id": "a097fb96",
   "metadata": {},
   "outputs": [],
   "source": []
  }
 ],
 "metadata": {
  "kernelspec": {
   "display_name": "Python 3 (ipykernel)",
   "language": "python",
   "name": "python3"
  },
  "language_info": {
   "codemirror_mode": {
    "name": "ipython",
    "version": 3
   },
   "file_extension": ".py",
   "mimetype": "text/x-python",
   "name": "python",
   "nbconvert_exporter": "python",
   "pygments_lexer": "ipython3",
   "version": "3.9.12"
  }
 },
 "nbformat": 4,
 "nbformat_minor": 5
}
