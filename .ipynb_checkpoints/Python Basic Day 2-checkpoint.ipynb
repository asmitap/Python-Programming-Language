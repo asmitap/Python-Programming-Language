{
 "cells": [
  {
   "cell_type": "markdown",
   "id": "430b2dc5",
   "metadata": {},
   "source": [
    "## Looping in Python"
   ]
  },
  {
   "cell_type": "markdown",
   "id": "8d053fcf",
   "metadata": {},
   "source": [
    "## While Loop\n",
    "<ul>\n",
    "    <li>It test the condition before execution of the loop body.</li>\n",
    "    <li>It is used to run same task multiple time.</li>\n",
    "</ul>"
   ]
  },
  {
   "cell_type": "code",
   "execution_count": 1,
   "id": "050a5695",
   "metadata": {},
   "outputs": [
    {
     "name": "stdout",
     "output_type": "stream",
     "text": [
      "Irregating the crops\n",
      "Current crop height is: 1 units\n",
      "Irregating the crops\n",
      "Current crop height is: 2 units\n",
      "Irregating the crops\n",
      "Current crop height is: 3 units\n",
      "Irregating the crops\n",
      "Current crop height is: 4 units\n",
      "Irregating the crops\n",
      "Current crop height is: 5 units\n",
      "Crop has reached the 5 units\n"
     ]
    }
   ],
   "source": [
    "# Irregation crops\n",
    "crop_height = 0\n",
    "while crop_height < 5:\n",
    "    print(\"Irregating the crops\")\n",
    "    crop_height +=1\n",
    "    print(f\"Current crop height is: {crop_height} units\")\n",
    "print(\"Crop has reached the 5 units\")"
   ]
  },
  {
   "cell_type": "markdown",
   "id": "c4ae6c37",
   "metadata": {},
   "source": [
    "## For Loop\n",
    "<ul><li>It is used to run block of code for a certain number of time.</li></ul>"
   ]
  },
  {
   "cell_type": "code",
   "execution_count": 2,
   "id": "86cdd64f",
   "metadata": {},
   "outputs": [
    {
     "name": "stdout",
     "output_type": "stream",
     "text": [
      "The average yield of crops is : 60.0\n"
     ]
    }
   ],
   "source": [
    "# let a list of crop yields per acres\n",
    "yield_data = [40, 50, 60,70, 80]\n",
    "total_yield = 0\n",
    "for yields in yield_data:\n",
    "    total_yield += yields\n",
    "#average yield for crop\n",
    "average_yield = total_yield/len(yield_data)\n",
    "print(\"The average yield of crops is :\", average_yield)\n"
   ]
  },
  {
   "cell_type": "code",
   "execution_count": null,
   "id": "5352ad68",
   "metadata": {},
   "outputs": [],
   "source": []
  }
 ],
 "metadata": {
  "kernelspec": {
   "display_name": "Python 3 (ipykernel)",
   "language": "python",
   "name": "python3"
  },
  "language_info": {
   "codemirror_mode": {
    "name": "ipython",
    "version": 3
   },
   "file_extension": ".py",
   "mimetype": "text/x-python",
   "name": "python",
   "nbconvert_exporter": "python",
   "pygments_lexer": "ipython3",
   "version": "3.9.12"
  }
 },
 "nbformat": 4,
 "nbformat_minor": 5
}
