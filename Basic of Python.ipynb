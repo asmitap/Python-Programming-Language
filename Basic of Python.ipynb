{
 "cells": [
  {
   "cell_type": "markdown",
   "id": "5706f89f",
   "metadata": {},
   "source": [
    "## Print Function"
   ]
  },
  {
   "cell_type": "code",
   "execution_count": 1,
   "id": "689e8a07",
   "metadata": {},
   "outputs": [
    {
     "name": "stdout",
     "output_type": "stream",
     "text": [
      "Nepal is an agricultural country\n"
     ]
    }
   ],
   "source": [
    "print(\"Nepal is an agricultural country\")"
   ]
  },
  {
   "cell_type": "markdown",
   "id": "5c4d2e69",
   "metadata": {},
   "source": [
    "## Indentation in Python"
   ]
  },
  {
   "cell_type": "code",
   "execution_count": 2,
   "id": "69ed40b5",
   "metadata": {},
   "outputs": [
    {
     "ename": "IndentationError",
     "evalue": "expected an indented block (2063319097.py, line 2)",
     "output_type": "error",
     "traceback": [
      "\u001b[0;36m  Input \u001b[0;32mIn [2]\u001b[0;36m\u001b[0m\n\u001b[0;31m    print(\"3 is greater than 2\")\u001b[0m\n\u001b[0m    ^\u001b[0m\n\u001b[0;31mIndentationError\u001b[0m\u001b[0;31m:\u001b[0m expected an indented block\n"
     ]
    }
   ],
   "source": [
    "if 3>2:\n",
    "print(\"3 is greater than 2\")"
   ]
  },
  {
   "cell_type": "code",
   "execution_count": 3,
   "id": "2374d490",
   "metadata": {},
   "outputs": [
    {
     "name": "stdout",
     "output_type": "stream",
     "text": [
      "3 is greater than 2\n"
     ]
    }
   ],
   "source": [
    "if 3>2:\n",
    "    print(\"3 is greater than 2\")"
   ]
  },
  {
   "cell_type": "markdown",
   "id": "9e736898",
   "metadata": {},
   "source": [
    "## Comment in python"
   ]
  },
  {
   "cell_type": "code",
   "execution_count": 4,
   "id": "49fea92a",
   "metadata": {},
   "outputs": [
    {
     "name": "stdout",
     "output_type": "stream",
     "text": [
      "Agriculture sector engages around 66% of the total population in Nepal.\n"
     ]
    }
   ],
   "source": [
    "# Single line comment\n",
    "print(\"Agriculture sector engages around 66% of the total population in Nepal.\")"
   ]
  },
  {
   "cell_type": "code",
   "execution_count": 5,
   "id": "11c760e2",
   "metadata": {},
   "outputs": [
    {
     "name": "stdout",
     "output_type": "stream",
     "text": [
      "A recent study funded by the Climate and Development Knowledge Network (CDKN) revealed that about 0.8% of agricultural GDP is being lost annually due to climate change and extreme events.\n"
     ]
    }
   ],
   "source": [
    "\"\"\" \n",
    "Multi-line comment\n",
    "Out of 2.7 million hectares of agricultural land in Nepal, only 1.3 Mha have irrigation facilities. \n",
    "The majority of irrigation systems are small and medium-scale.\n",
    "\"\"\"\n",
    "print(\"A recent study funded by the Climate and Development Knowledge Network (CDKN) revealed that about 0.8% of agricultural GDP is being lost annually due to climate change and extreme events.\")"
   ]
  },
  {
   "cell_type": "markdown",
   "id": "9912c331",
   "metadata": {},
   "source": [
    "## Variable"
   ]
  },
  {
   "cell_type": "code",
   "execution_count": 6,
   "id": "8e7fe47c",
   "metadata": {},
   "outputs": [
    {
     "name": "stdout",
     "output_type": "stream",
     "text": [
      "Nepal\n"
     ]
    }
   ],
   "source": [
    "location = \"Nepal\"\n",
    "print(location)"
   ]
  },
  {
   "cell_type": "markdown",
   "id": "377a6f91",
   "metadata": {},
   "source": [
    "## Data Types in Python "
   ]
  },
  {
   "cell_type": "markdown",
   "id": "6d412520",
   "metadata": {},
   "source": [
    "## Integer"
   ]
  },
  {
   "cell_type": "code",
   "execution_count": 7,
   "id": "2e437988",
   "metadata": {},
   "outputs": [
    {
     "data": {
      "text/plain": [
       "int"
      ]
     },
     "execution_count": 7,
     "metadata": {},
     "output_type": "execute_result"
    }
   ],
   "source": [
    "# 66% of total population involve in agriculture\n",
    "population = 66\n",
    "type(population)"
   ]
  },
  {
   "cell_type": "markdown",
   "id": "81bba4cb",
   "metadata": {},
   "source": [
    "## Float"
   ]
  },
  {
   "cell_type": "code",
   "execution_count": 8,
   "id": "62bb9b8d",
   "metadata": {},
   "outputs": [
    {
     "data": {
      "text/plain": [
       "float"
      ]
     },
     "execution_count": 8,
     "metadata": {},
     "output_type": "execute_result"
    }
   ],
   "source": [
    "# 28.75% of land is used for agriculture in Nepal.\n",
    "land_used = 28.75\n",
    "type(land_used)"
   ]
  },
  {
   "cell_type": "markdown",
   "id": "3f1aa69f",
   "metadata": {},
   "source": [
    "## String "
   ]
  },
  {
   "cell_type": "code",
   "execution_count": 9,
   "id": "955278f6",
   "metadata": {},
   "outputs": [
    {
     "data": {
      "text/plain": [
       "str"
      ]
     },
     "execution_count": 9,
     "metadata": {},
     "output_type": "execute_result"
    }
   ],
   "source": [
    "characters = \"Agriculture is the science or practice of farming, including cultivation of the soil for the growing of crops and the rearing of animals to provide food, wool, and other products.\"\n",
    "type(characters)"
   ]
  },
  {
   "cell_type": "markdown",
   "id": "8fabefda",
   "metadata": {},
   "source": [
    "## list\n",
    "<ul>\n",
    "    <li>Ordered</li>\n",
    "    <li>Changeable</li>\n",
    "    <li>Allow Duplications</li>\n",
    "<ul>"
   ]
  },
  {
   "cell_type": "code",
   "execution_count": 10,
   "id": "f2683995",
   "metadata": {},
   "outputs": [
    {
     "data": {
      "text/plain": [
       "list"
      ]
     },
     "execution_count": 10,
     "metadata": {},
     "output_type": "execute_result"
    }
   ],
   "source": [
    "# National area by ecological belt in square kilometer\n",
    "mountain = 51817\n",
    "hill = 61345\n",
    "terai = 34019\n",
    "data = [mountain, hill, terai]\n",
    "type(data)"
   ]
  },
  {
   "cell_type": "markdown",
   "id": "2c21da5c",
   "metadata": {},
   "source": [
    "## Tuple\n",
    "<ul>\n",
    "    <li>Ordered</li>\n",
    "    <li>Unchangeable</li>\n",
    "    <li>Allow Duplications</li>\n",
    "<ul>"
   ]
  },
  {
   "cell_type": "code",
   "execution_count": 11,
   "id": "c3121e81",
   "metadata": {},
   "outputs": [
    {
     "data": {
      "text/plain": [
       "tuple"
      ]
     },
     "execution_count": 11,
     "metadata": {},
     "output_type": "execute_result"
    }
   ],
   "source": [
    "data = (mountain, hill, terai)\n",
    "type(data)"
   ]
  },
  {
   "cell_type": "markdown",
   "id": "faacd5f9",
   "metadata": {},
   "source": [
    "## Dictionary\n",
    "<ul>\n",
    "    <li>Ordered or Unordered</li>\n",
    "    <li>Changeable</li>\n",
    "    <li>Duplication not Allows</li>\n",
    "<ul>"
   ]
  },
  {
   "cell_type": "code",
   "execution_count": 12,
   "id": "2f6d5db6",
   "metadata": {},
   "outputs": [
    {
     "data": {
      "text/plain": [
       "dict"
      ]
     },
     "execution_count": 12,
     "metadata": {},
     "output_type": "execute_result"
    }
   ],
   "source": [
    "data = {\"mountain\": mountain, \"hill\":hill, \"terai\": terai}\n",
    "type(data)"
   ]
  },
  {
   "cell_type": "markdown",
   "id": "b7a5906c",
   "metadata": {},
   "source": [
    "## Set\n",
    "<ul>\n",
    "    <li>Unordered</li>\n",
    "    <li>Unchangeable</li>\n",
    "    <li>Duplication not allows</li>\n",
    "<ul>"
   ]
  },
  {
   "cell_type": "code",
   "execution_count": 13,
   "id": "983aa9a9",
   "metadata": {},
   "outputs": [
    {
     "data": {
      "text/plain": [
       "set"
      ]
     },
     "execution_count": 13,
     "metadata": {},
     "output_type": "execute_result"
    }
   ],
   "source": [
    "data = {mountain, hill, terai}\n",
    "type(data)"
   ]
  },
  {
   "cell_type": "markdown",
   "id": "b3a11707",
   "metadata": {},
   "source": [
    "## Type Casting"
   ]
  },
  {
   "cell_type": "code",
   "execution_count": 14,
   "id": "d4f2c695",
   "metadata": {},
   "outputs": [
    {
     "name": "stdout",
     "output_type": "stream",
     "text": [
      "<class 'int'>\n",
      "<class 'float'>\n"
     ]
    }
   ],
   "source": [
    "mountain_area = mountain\n",
    "print(type(mountain_area))\n",
    "\n",
    "mountain_area = float(mountain)\n",
    "print(type(mountain_area))"
   ]
  },
  {
   "cell_type": "code",
   "execution_count": null,
   "id": "e22b4834",
   "metadata": {},
   "outputs": [],
   "source": []
  }
 ],
 "metadata": {
  "kernelspec": {
   "display_name": "Python 3 (ipykernel)",
   "language": "python",
   "name": "python3"
  },
  "language_info": {
   "codemirror_mode": {
    "name": "ipython",
    "version": 3
   },
   "file_extension": ".py",
   "mimetype": "text/x-python",
   "name": "python",
   "nbconvert_exporter": "python",
   "pygments_lexer": "ipython3",
   "version": "3.9.12"
  }
 },
 "nbformat": 4,
 "nbformat_minor": 5
}
