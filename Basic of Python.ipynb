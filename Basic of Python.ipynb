{
 "cells": [
  {
   "cell_type": "markdown",
   "id": "c80fd2aa",
   "metadata": {},
   "source": [
    "## Python Version Check"
   ]
  },
  {
   "cell_type": "code",
   "execution_count": 6,
   "id": "68d8edab",
   "metadata": {},
   "outputs": [
    {
     "name": "stdout",
     "output_type": "stream",
     "text": [
      "3.9.12\n"
     ]
    }
   ],
   "source": [
    "from platform import python_version\n",
    "print(python_version())"
   ]
  },
  {
   "cell_type": "markdown",
   "id": "bb1165f6",
   "metadata": {},
   "source": [
    "## Print Function"
   ]
  },
  {
   "cell_type": "code",
   "execution_count": 2,
   "id": "0467d553",
   "metadata": {},
   "outputs": [
    {
     "name": "stdout",
     "output_type": "stream",
     "text": [
      "Learning Python from Basic\n"
     ]
    }
   ],
   "source": [
    "print(\"Learning Python from Basic\")"
   ]
  },
  {
   "cell_type": "markdown",
   "id": "36fb9f54",
   "metadata": {},
   "source": [
    "## Indentation in Python"
   ]
  },
  {
   "cell_type": "code",
   "execution_count": 4,
   "id": "a643925b",
   "metadata": {},
   "outputs": [
    {
     "ename": "IndentationError",
     "evalue": "expected an indented block (2063319097.py, line 2)",
     "output_type": "error",
     "traceback": [
      "\u001b[0;36m  Input \u001b[0;32mIn [4]\u001b[0;36m\u001b[0m\n\u001b[0;31m    print(\"3 is greater than 2\")\u001b[0m\n\u001b[0m    ^\u001b[0m\n\u001b[0;31mIndentationError\u001b[0m\u001b[0;31m:\u001b[0m expected an indented block\n"
     ]
    }
   ],
   "source": [
    "if 3>2:\n",
    "print(\"3 is greater than 2\")"
   ]
  },
  {
   "cell_type": "code",
   "execution_count": 5,
   "id": "5aa6aafd",
   "metadata": {},
   "outputs": [
    {
     "name": "stdout",
     "output_type": "stream",
     "text": [
      "3 is greater than 2\n"
     ]
    }
   ],
   "source": [
    "if 3>2:\n",
    "    print(\"3 is greater than 2\")"
   ]
  },
  {
   "cell_type": "markdown",
   "id": "56fa8d98",
   "metadata": {},
   "source": [
    "## Comment in python"
   ]
  },
  {
   "cell_type": "code",
   "execution_count": 6,
   "id": "d86f78c5",
   "metadata": {},
   "outputs": [
    {
     "name": "stdout",
     "output_type": "stream",
     "text": [
      "Hello\n"
     ]
    }
   ],
   "source": [
    "# Single line comment\n",
    "print(\"Hello\")"
   ]
  },
  {
   "cell_type": "code",
   "execution_count": 11,
   "id": "0da8b59e",
   "metadata": {},
   "outputs": [
    {
     "name": "stdout",
     "output_type": "stream",
     "text": [
      "hello world\n"
     ]
    }
   ],
   "source": [
    "\"\"\" \n",
    "This is multiline comment\n",
    "\"\"\"\n",
    "print(\"hello world\")"
   ]
  },
  {
   "cell_type": "markdown",
   "id": "b4b7649a",
   "metadata": {},
   "source": [
    "## Variable"
   ]
  },
  {
   "cell_type": "code",
   "execution_count": 13,
   "id": "dfc035a5",
   "metadata": {},
   "outputs": [
    {
     "name": "stdout",
     "output_type": "stream",
     "text": [
      "kathmandu\n"
     ]
    }
   ],
   "source": [
    "location = \"kathmandu\"\n",
    "print(location)"
   ]
  },
  {
   "cell_type": "markdown",
   "id": "01c58a7c",
   "metadata": {},
   "source": [
    "## Data Types in Python "
   ]
  },
  {
   "cell_type": "markdown",
   "id": "e4abd0bd",
   "metadata": {},
   "source": [
    "## Integer"
   ]
  },
  {
   "cell_type": "code",
   "execution_count": 14,
   "id": "ba186d9c",
   "metadata": {},
   "outputs": [
    {
     "data": {
      "text/plain": [
       "int"
      ]
     },
     "execution_count": 14,
     "metadata": {},
     "output_type": "execute_result"
    }
   ],
   "source": [
    "number = 10\n",
    "type(number)"
   ]
  },
  {
   "cell_type": "markdown",
   "id": "7b226554",
   "metadata": {},
   "source": [
    "## Float"
   ]
  },
  {
   "cell_type": "code",
   "execution_count": 15,
   "id": "6b4a4cd3",
   "metadata": {},
   "outputs": [
    {
     "data": {
      "text/plain": [
       "float"
      ]
     },
     "execution_count": 15,
     "metadata": {},
     "output_type": "execute_result"
    }
   ],
   "source": [
    "floatnumber = 10.4\n",
    "type(floatnumber)"
   ]
  },
  {
   "cell_type": "markdown",
   "id": "07a54057",
   "metadata": {},
   "source": [
    "## String "
   ]
  },
  {
   "cell_type": "code",
   "execution_count": 16,
   "id": "4ec9f445",
   "metadata": {},
   "outputs": [
    {
     "data": {
      "text/plain": [
       "str"
      ]
     },
     "execution_count": 16,
     "metadata": {},
     "output_type": "execute_result"
    }
   ],
   "source": [
    "characters = \"Hello from KTM\"\n",
    "type(characters)"
   ]
  },
  {
   "cell_type": "markdown",
   "id": "e0d88a93",
   "metadata": {},
   "source": [
    "## list\n",
    "<ul>\n",
    "    <li>Ordered</li>\n",
    "    <li>Changeable</li>\n",
    "    <li>Allow Duplications</li>\n",
    "<ul>"
   ]
  },
  {
   "cell_type": "code",
   "execution_count": 17,
   "id": "9348f636",
   "metadata": {},
   "outputs": [
    {
     "data": {
      "text/plain": [
       "list"
      ]
     },
     "execution_count": 17,
     "metadata": {},
     "output_type": "execute_result"
    }
   ],
   "source": [
    "data = [1,2,3,4]\n",
    "type(data)"
   ]
  },
  {
   "cell_type": "markdown",
   "id": "9afc51ec",
   "metadata": {},
   "source": [
    "## Tuple\n",
    "<ul>\n",
    "    <li>Ordered</li>\n",
    "    <li>Unchangeable</li>\n",
    "    <li>Allow Duplications</li>\n",
    "<ul>"
   ]
  },
  {
   "cell_type": "code",
   "execution_count": 19,
   "id": "f3464ff8",
   "metadata": {},
   "outputs": [
    {
     "data": {
      "text/plain": [
       "tuple"
      ]
     },
     "execution_count": 19,
     "metadata": {},
     "output_type": "execute_result"
    }
   ],
   "source": [
    "data = (1,2,3,4)\n",
    "type(data)"
   ]
  },
  {
   "cell_type": "markdown",
   "id": "be9d470b",
   "metadata": {},
   "source": [
    "## Dictionary\n",
    "<ul>\n",
    "    <li>Ordered or Unordered</li>\n",
    "    <li>Changeable</li>\n",
    "    <li>Duplication not Allows</li>\n",
    "<ul>"
   ]
  },
  {
   "cell_type": "code",
   "execution_count": 21,
   "id": "0b66cd8d",
   "metadata": {},
   "outputs": [
    {
     "data": {
      "text/plain": [
       "dict"
      ]
     },
     "execution_count": 21,
     "metadata": {},
     "output_type": "execute_result"
    }
   ],
   "source": [
    "data = {\"key1\":1, \"key2\":2}\n",
    "type(data)"
   ]
  },
  {
   "cell_type": "markdown",
   "id": "ba7c5d9a",
   "metadata": {},
   "source": [
    "## Set\n",
    "<ul>\n",
    "    <li>Unordered</li>\n",
    "    <li>Unchangeable</li>\n",
    "    <li>Duplication not allows</li>\n",
    "<ul>"
   ]
  },
  {
   "cell_type": "code",
   "execution_count": 23,
   "id": "49106c5c",
   "metadata": {},
   "outputs": [
    {
     "data": {
      "text/plain": [
       "set"
      ]
     },
     "execution_count": 23,
     "metadata": {},
     "output_type": "execute_result"
    }
   ],
   "source": [
    "data = {\"data1\", \"data2\", \"data3\"}\n",
    "type(data)"
   ]
  },
  {
   "cell_type": "markdown",
   "id": "ae78f3e0",
   "metadata": {},
   "source": [
    "## Type Casting"
   ]
  },
  {
   "cell_type": "code",
   "execution_count": 28,
   "id": "3e885b14",
   "metadata": {},
   "outputs": [
    {
     "name": "stdout",
     "output_type": "stream",
     "text": [
      "<class 'int'>\n",
      "<class 'float'>\n"
     ]
    }
   ],
   "source": [
    "data = 1\n",
    "print(type(data))\n",
    "\n",
    "data1 = float(1)\n",
    "print(type(data1))"
   ]
  },
  {
   "cell_type": "code",
   "execution_count": null,
   "id": "ed7fa2b1",
   "metadata": {},
   "outputs": [],
   "source": []
  }
 ],
 "metadata": {
  "kernelspec": {
   "display_name": "Python 3 (ipykernel)",
   "language": "python",
   "name": "python3"
  },
  "language_info": {
   "codemirror_mode": {
    "name": "ipython",
    "version": 3
   },
   "file_extension": ".py",
   "mimetype": "text/x-python",
   "name": "python",
   "nbconvert_exporter": "python",
   "pygments_lexer": "ipython3",
   "version": "3.9.12"
  }
 },
 "nbformat": 4,
 "nbformat_minor": 5
}
