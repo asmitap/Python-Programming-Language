{
 "cells": [
  {
   "cell_type": "markdown",
   "id": "ea1d93f6",
   "metadata": {},
   "source": [
    "## Abstraction in python\n",
    "It is used to hide the background details or any unnecessary implementation."
   ]
  },
  {
   "cell_type": "code",
   "execution_count": 1,
   "id": "6080235c",
   "metadata": {},
   "outputs": [
    {
     "name": "stdout",
     "output_type": "stream",
     "text": [
      "Area of a rectangle: 24\n",
      "Area of a circle: 153.86\n",
      "Area of a square: 16\n",
      "Area of a triangle: 10.0\n"
     ]
    }
   ],
   "source": [
    "from abc import ABC\n",
    "class type_shape(ABC): \n",
    "    def area(self): \n",
    "    #abstract method\n",
    "        pass\n",
    "\n",
    "class Rectangle(type_shape):\n",
    "    length = 6\n",
    "    breadth = 4\n",
    "    def area(self):\n",
    "        return self.length * self.breadth\n",
    "\n",
    "class Circle(type_shape):\n",
    "    radius = 7\n",
    "    def area(self):\n",
    "        return 3.14 * self.radius * self.radius\n",
    "\n",
    "class Square(type_shape):\n",
    "    length = 4\n",
    "    def area(self):\n",
    "        return self.length*self.length\n",
    "\n",
    "class triangle:\n",
    "    length = 5\n",
    "    width = 4\n",
    "    def area(self):\n",
    "        return 0.5 * self.length * self.width\n",
    "\n",
    "\n",
    "r = Rectangle() #object\n",
    "c = Circle() \n",
    "s = Square() \n",
    "t = triangle()\n",
    "\n",
    "print(\"Area of a rectangle:\", r.area()) # call to 'area' method \n",
    "print(\"Area of a circle:\", c.area()) \n",
    "print(\"Area of a square:\", s.area()) \n",
    "print(\"Area of a triangle:\", t.area())\n"
   ]
  },
  {
   "cell_type": "code",
   "execution_count": null,
   "id": "fc371fd9",
   "metadata": {},
   "outputs": [],
   "source": []
  }
 ],
 "metadata": {
  "kernelspec": {
   "display_name": "Python 3 (ipykernel)",
   "language": "python",
   "name": "python3"
  },
  "language_info": {
   "codemirror_mode": {
    "name": "ipython",
    "version": 3
   },
   "file_extension": ".py",
   "mimetype": "text/x-python",
   "name": "python",
   "nbconvert_exporter": "python",
   "pygments_lexer": "ipython3",
   "version": "3.9.12"
  }
 },
 "nbformat": 4,
 "nbformat_minor": 5
}
