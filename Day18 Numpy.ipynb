{
 "cells": [
  {
   "cell_type": "markdown",
   "id": "c74682f4",
   "metadata": {},
   "source": [
    "## Numpy\n",
    "Used for numerical computing <br>\n",
    "Array consist of same type data"
   ]
  },
  {
   "cell_type": "markdown",
   "id": "655b47a9",
   "metadata": {},
   "source": [
    "### Annual sales of chemical fertilizer in Nepal\n",
    "Fertilizer in Metric Tonnes <br>\n",
    "Data : 2020/2021\n",
    "<table>\n",
    "    <tr>\n",
    "        <th>Urea</th>\n",
    "        <th>DAP</th>\n",
    "        <th>Potash</th>\n",
    "    </tr>\n",
    "    <tr>\n",
    "        <td>225,180</td>\n",
    "        <td>140,982</td>\n",
    "        <td>12,990</td>\n",
    "    </tr>\n",
    "</table>"
   ]
  },
  {
   "cell_type": "code",
   "execution_count": 1,
   "id": "7b924512",
   "metadata": {},
   "outputs": [],
   "source": [
    "import numpy as np\n",
    "import matplotlib.pyplot as plt\n",
    "%matplotlib inline\n",
    "import time"
   ]
  },
  {
   "cell_type": "code",
   "execution_count": 2,
   "id": "2413744b",
   "metadata": {},
   "outputs": [
    {
     "name": "stdout",
     "output_type": "stream",
     "text": [
      "[225180 140982  12990]\n"
     ]
    },
    {
     "data": {
      "text/plain": [
       "numpy.ndarray"
      ]
     },
     "execution_count": 2,
     "metadata": {},
     "output_type": "execute_result"
    }
   ],
   "source": [
    "chemical_fertilizer = np.array([225180, 140982,12990])\n",
    "print(chemical_fertilizer)\n",
    "type(chemical_fertilizer)"
   ]
  },
  {
   "cell_type": "markdown",
   "id": "ab9ff16a",
   "metadata": {},
   "source": [
    "## Accessing the element"
   ]
  },
  {
   "cell_type": "code",
   "execution_count": 3,
   "id": "c16c48b3",
   "metadata": {},
   "outputs": [
    {
     "data": {
      "text/plain": [
       "140982"
      ]
     },
     "execution_count": 3,
     "metadata": {},
     "output_type": "execute_result"
    }
   ],
   "source": [
    "# first element\n",
    "chemical_fertilizer[1]"
   ]
  },
  {
   "cell_type": "code",
   "execution_count": 4,
   "id": "1d034a7e",
   "metadata": {},
   "outputs": [
    {
     "data": {
      "text/plain": [
       "12990"
      ]
     },
     "execution_count": 4,
     "metadata": {},
     "output_type": "execute_result"
    }
   ],
   "source": [
    "# last element\n",
    "chemical_fertilizer[-1]"
   ]
  },
  {
   "cell_type": "markdown",
   "id": "a9463128",
   "metadata": {},
   "source": [
    "## Slicing"
   ]
  },
  {
   "cell_type": "code",
   "execution_count": 5,
   "id": "e116abdc",
   "metadata": {},
   "outputs": [
    {
     "data": {
      "text/plain": [
       "array([225180, 140982])"
      ]
     },
     "execution_count": 5,
     "metadata": {},
     "output_type": "execute_result"
    }
   ],
   "source": [
    "# first and second element\n",
    "chemical_fertilizer[0:2]"
   ]
  },
  {
   "cell_type": "markdown",
   "id": "50548bb9",
   "metadata": {},
   "source": [
    "## Size of array"
   ]
  },
  {
   "cell_type": "code",
   "execution_count": 6,
   "id": "963e7995",
   "metadata": {},
   "outputs": [
    {
     "data": {
      "text/plain": [
       "3"
      ]
     },
     "execution_count": 6,
     "metadata": {},
     "output_type": "execute_result"
    }
   ],
   "source": [
    "chemical_fertilizer.size"
   ]
  },
  {
   "cell_type": "markdown",
   "id": "36f38a84",
   "metadata": {},
   "source": [
    "## Dimension of array"
   ]
  },
  {
   "cell_type": "code",
   "execution_count": 7,
   "id": "d09f7cf3",
   "metadata": {},
   "outputs": [
    {
     "data": {
      "text/plain": [
       "1"
      ]
     },
     "execution_count": 7,
     "metadata": {},
     "output_type": "execute_result"
    }
   ],
   "source": [
    "chemical_fertilizer.ndim"
   ]
  },
  {
   "cell_type": "markdown",
   "id": "07ea9576",
   "metadata": {},
   "source": [
    "## Shape of array"
   ]
  },
  {
   "cell_type": "code",
   "execution_count": 8,
   "id": "174c629a",
   "metadata": {},
   "outputs": [
    {
     "data": {
      "text/plain": [
       "(3,)"
      ]
     },
     "execution_count": 8,
     "metadata": {},
     "output_type": "execute_result"
    }
   ],
   "source": [
    "chemical_fertilizer.shape"
   ]
  },
  {
   "cell_type": "markdown",
   "id": "5bd3bbd1",
   "metadata": {},
   "source": [
    "## Reverse the element"
   ]
  },
  {
   "cell_type": "code",
   "execution_count": 9,
   "id": "c5aa47f6",
   "metadata": {},
   "outputs": [
    {
     "data": {
      "text/plain": [
       "array([ 12990, 140982, 225180])"
      ]
     },
     "execution_count": 9,
     "metadata": {},
     "output_type": "execute_result"
    }
   ],
   "source": [
    "chemical_fertilizer[::-1]"
   ]
  },
  {
   "cell_type": "markdown",
   "id": "83638859",
   "metadata": {},
   "source": [
    "## Annual sales of chemical fertilier in Nepal\n",
    "Fertilizer in Metric Tonnes <br>\n",
    "Data : 2019/2020\n",
    "<table>\n",
    "    <tr>\n",
    "        <th>Urea</th>\n",
    "        <th>DAP</th>\n",
    "        <th>Potash</th>\n",
    "    </tr>\n",
    "    <tr>\n",
    "        <td>224,700</td>\n",
    "        <td>160,298</td>\n",
    "        <td>9,597</td>\n",
    "    </tr>\n",
    "</table>"
   ]
  },
  {
   "cell_type": "code",
   "execution_count": 10,
   "id": "5ed1cbfb",
   "metadata": {},
   "outputs": [
    {
     "name": "stdout",
     "output_type": "stream",
     "text": [
      "[224700 160298   9597]\n"
     ]
    },
    {
     "data": {
      "text/plain": [
       "numpy.ndarray"
      ]
     },
     "execution_count": 10,
     "metadata": {},
     "output_type": "execute_result"
    }
   ],
   "source": [
    "chemical_fertilizer_1920 = np.array([224700, 160298, 9597])\n",
    "print(chemical_fertilizer_1920)\n",
    "type(chemical_fertilizer_1920)"
   ]
  },
  {
   "cell_type": "markdown",
   "id": "4c773ca7",
   "metadata": {},
   "source": [
    "## Vector Addition"
   ]
  },
  {
   "cell_type": "code",
   "execution_count": 11,
   "id": "8da8fedf",
   "metadata": {},
   "outputs": [
    {
     "name": "stdout",
     "output_type": "stream",
     "text": [
      "[449880 301280  22587]\n",
      "0.00037860870361328125\n"
     ]
    }
   ],
   "source": [
    "# total chemical fertilizer is\n",
    "# using numpy\n",
    "initial_time = time.time()\n",
    "\n",
    "total_chemical_fertilizer = chemical_fertilizer + chemical_fertilizer_1920\n",
    "print(total_chemical_fertilizer)\n",
    "\n",
    "end_time = time.time()\n",
    "timetaken = end_time - initial_time\n",
    "print(timetaken)"
   ]
  },
  {
   "cell_type": "code",
   "execution_count": 12,
   "id": "5f641aec",
   "metadata": {},
   "outputs": [
    {
     "name": "stdout",
     "output_type": "stream",
     "text": [
      "[449880, 301280, 22587]\n",
      "0.002892732620239258\n"
     ]
    }
   ],
   "source": [
    "# using list\n",
    "initial_time = time.time()\n",
    "\n",
    "total_chem=[]\n",
    "for i,j in zip(chemical_fertilizer,chemical_fertilizer_1920):\n",
    "    total_chem.append(i+j)\n",
    "print(total_chem)\n",
    "\n",
    "end_time = time.time()\n",
    "timetaken = end_time - initial_time\n",
    "print(timetaken)"
   ]
  },
  {
   "cell_type": "markdown",
   "id": "acaab4ad",
   "metadata": {},
   "source": [
    "## Vector Subtraction"
   ]
  },
  {
   "cell_type": "code",
   "execution_count": 13,
   "id": "e09f4b93",
   "metadata": {},
   "outputs": [
    {
     "data": {
      "text/plain": [
       "array([   480, -19316,   3393])"
      ]
     },
     "execution_count": 13,
     "metadata": {},
     "output_type": "execute_result"
    }
   ],
   "source": [
    "# changes in sales of chemical fertilizer\n",
    "change_chemical = chemical_fertilizer - chemical_fertilizer_1920\n",
    "change_chemical"
   ]
  },
  {
   "cell_type": "markdown",
   "id": "c163b784",
   "metadata": {},
   "source": [
    "## Scalar Multiplication"
   ]
  },
  {
   "cell_type": "code",
   "execution_count": 14,
   "id": "e48b673d",
   "metadata": {},
   "outputs": [
    {
     "name": "stdout",
     "output_type": "stream",
     "text": [
      "[899760 602560  45174]\n"
     ]
    }
   ],
   "source": [
    "total_chemical_fertilizer = 2*total_chemical_fertilizer\n",
    "print(total_chemical_fertilizer)"
   ]
  },
  {
   "cell_type": "markdown",
   "id": "380211a2",
   "metadata": {},
   "source": [
    "##  Hadamard product"
   ]
  },
  {
   "cell_type": "code",
   "execution_count": 15,
   "id": "6172f18d",
   "metadata": {},
   "outputs": [
    {
     "data": {
      "text/plain": [
       "array([50597946000, 22599132636,   124665030])"
      ]
     },
     "execution_count": 15,
     "metadata": {},
     "output_type": "execute_result"
    }
   ],
   "source": [
    "chem_prod = chemical_fertilizer * chemical_fertilizer_1920\n",
    "chem_prod"
   ]
  },
  {
   "cell_type": "markdown",
   "id": "237bc24c",
   "metadata": {},
   "source": [
    "## Dot Product"
   ]
  },
  {
   "cell_type": "code",
   "execution_count": 16,
   "id": "256f061c",
   "metadata": {},
   "outputs": [
    {
     "name": "stdout",
     "output_type": "stream",
     "text": [
      "73321743666\n"
     ]
    }
   ],
   "source": [
    "dot_product = np.dot(chemical_fertilizer, chemical_fertilizer_1920)\n",
    "print(dot_product)"
   ]
  },
  {
   "cell_type": "markdown",
   "id": "3e86095a",
   "metadata": {},
   "source": [
    "## Broadcasting"
   ]
  },
  {
   "cell_type": "code",
   "execution_count": 17,
   "id": "ad75a34f",
   "metadata": {},
   "outputs": [
    {
     "data": {
      "text/plain": [
       "array([225181, 140983,  12991])"
      ]
     },
     "execution_count": 17,
     "metadata": {},
     "output_type": "execute_result"
    }
   ],
   "source": [
    "# adding to array\n",
    "chemical_fertilizer_broad = chemical_fertilizer + 1\n",
    "chemical_fertilizer_broad"
   ]
  },
  {
   "cell_type": "markdown",
   "id": "2d4f03ee",
   "metadata": {},
   "source": [
    "## Universal function"
   ]
  },
  {
   "cell_type": "code",
   "execution_count": 18,
   "id": "b0f28711",
   "metadata": {},
   "outputs": [
    {
     "name": "stdout",
     "output_type": "stream",
     "text": [
      "126384.0\n"
     ]
    }
   ],
   "source": [
    "# mean\n",
    "mean = np.mean(chemical_fertilizer)\n",
    "print(mean)"
   ]
  },
  {
   "cell_type": "code",
   "execution_count": 19,
   "id": "1088aae2",
   "metadata": {},
   "outputs": [
    {
     "data": {
      "text/plain": [
       "Text(0, 0.5, 'y')"
      ]
     },
     "execution_count": 19,
     "metadata": {},
     "output_type": "execute_result"
    },
    {
     "data": {
      "image/png": "[encoded data removed]",
      "text/plain": [
       "<Figure size 432x288 with 1 Axes>"
      ]
     },
     "metadata": {
      "needs_background": "light"
     },
     "output_type": "display_data"
    }
   ],
   "source": [
    "# linspace()\n",
    "x = np.linspace(0, 2*np.pi, 100)\n",
    "y = np.sin(x)\n",
    "#print(x,y)\n",
    "plt.plot(x,y)\n",
    "plt.xlabel(\"x\")\n",
    "plt.ylabel(\"y\")"
   ]
  },
  {
   "cell_type": "code",
   "execution_count": null,
   "id": "59b2975d",
   "metadata": {},
   "outputs": [],
   "source": []
  }
 ],
 "metadata": {
  "kernelspec": {
   "display_name": "Python 3 (ipykernel)",
   "language": "python",
   "name": "python3"
  },
  "language_info": {
   "codemirror_mode": {
    "name": "ipython",
    "version": 3
   },
   "file_extension": ".py",
   "mimetype": "text/x-python",
   "name": "python",
   "nbconvert_exporter": "python",
   "pygments_lexer": "ipython3",
   "version": "3.9.12"
  }
 },
 "nbformat": 4,
 "nbformat_minor": 5
}
