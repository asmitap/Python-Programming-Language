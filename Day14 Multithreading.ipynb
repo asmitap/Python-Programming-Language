{
 "cells": [
  {
   "cell_type": "markdown",
   "id": "34a6ba18",
   "metadata": {},
   "source": [
    "## Multithreading\n",
    "Multithreading is a threading technique to run multiple threads concurrently by rapidly switching between threads with a CPU help (called context switching). "
   ]
  },
  {
   "cell_type": "markdown",
   "id": "8e061844",
   "metadata": {},
   "source": [
    "## Without using threading"
   ]
  },
  {
   "cell_type": "code",
   "execution_count": 1,
   "id": "ba1c4394",
   "metadata": {},
   "outputs": [
    {
     "name": "stdout",
     "output_type": "stream",
     "text": [
      "The square of 1 is :  1\n",
      "The square of 2 is :  4\n",
      "The square of 3 is :  9\n",
      "The square of 4 is :  16\n",
      "The square of 5 is :  25\n",
      "The cube of 1 is :  1\n",
      "The cube of 2 is :  8\n",
      "The cube of 3 is :  27\n",
      "The cube of 4 is :  64\n",
      "The cube of 5 is :  125\n",
      "The time taken without using thread is :  10.018064022064209\n"
     ]
    }
   ],
   "source": [
    "import time\n",
    "\n",
    "def find_square(n):\n",
    "    for x in n:\n",
    "        time.sleep(1)\n",
    "        print(f'The square of {x} is : ',x**2)\n",
    "        \n",
    "def find_cube(n):\n",
    "    for x in n:\n",
    "        time.sleep(1)\n",
    "        print(f'The cube of {x} is : ',x**3)\n",
    "        \n",
    "n=[1,2,3,4,5]\n",
    "start_time = time.time()\n",
    "find_square(n)\n",
    "find_cube(n)\n",
    "end_time = time.time()\n",
    "print(\"The time taken without using thread is : \", end_time - start_time)"
   ]
  },
  {
   "cell_type": "markdown",
   "id": "65339de8",
   "metadata": {},
   "source": [
    "## Using threading"
   ]
  },
  {
   "cell_type": "code",
   "execution_count": 2,
   "id": "4fc51fe5",
   "metadata": {},
   "outputs": [
    {
     "name": "stdout",
     "output_type": "stream",
     "text": [
      "The square of 1 is :  1\n",
      "The cube of 1 is :  1\n",
      "The square of 2 is :  4\n",
      "The cube of 2 is :  8\n",
      "The square of 3 is :  9\n",
      "The cube of 3 is :  27\n",
      "The square of 4 is :  16\n",
      "The cube of 4 is :  64\n",
      "The square of 5 is :  25\n",
      "The cube of 5 is :  125\n",
      "The time taken using thread is :  6.012367486953735\n"
     ]
    }
   ],
   "source": [
    "import threading\n",
    "from threading import *\n",
    "import time\n",
    "\n",
    "def find_square(n):\n",
    "    for x in n:\n",
    "        time.sleep(1)\n",
    "        print(f'The square of {x} is : ',x**2)\n",
    "        \n",
    "def find_cube(n):\n",
    "    for x in n:\n",
    "        time.sleep(1)\n",
    "        print(f'The cube of {x} is : ',x**3)\n",
    "        \n",
    "n=[1,2,3,4,5]\n",
    "start_time = time.time()\n",
    "t1=Thread(target=find_square,args=(n,))\n",
    "t2=Thread(target=find_cube,args=(n,))\n",
    "t1.start()\n",
    "time.sleep(1)\n",
    "t2.start()\n",
    "t1.join() #join()-the main thread wait for the child to finish.\n",
    "t2.join()\n",
    "end_time = time.time()\n",
    "print(\"The time taken using thread is : \",end_time - start_time)"
   ]
  },
  {
   "cell_type": "markdown",
   "id": "1e70cad1",
   "metadata": {},
   "source": [
    "The above output clearly shows that the time taken when we use threads is much less compared to the time taken for the same program to execute without using threads."
   ]
  },
  {
   "cell_type": "code",
   "execution_count": null,
   "id": "11c8f3fe",
   "metadata": {},
   "outputs": [],
   "source": []
  }
 ],
 "metadata": {
  "kernelspec": {
   "display_name": "Python 3 (ipykernel)",
   "language": "python",
   "name": "python3"
  },
  "language_info": {
   "codemirror_mode": {
    "name": "ipython",
    "version": 3
   },
   "file_extension": ".py",
   "mimetype": "text/x-python",
   "name": "python",
   "nbconvert_exporter": "python",
   "pygments_lexer": "ipython3",
   "version": "3.9.12"
  }
 },
 "nbformat": 4,
 "nbformat_minor": 5
}
