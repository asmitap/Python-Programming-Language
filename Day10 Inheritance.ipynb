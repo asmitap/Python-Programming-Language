{
 "cells": [
  {
   "cell_type": "code",
   "execution_count": 1,
   "id": "c35a592c",
   "metadata": {},
   "outputs": [
    {
     "name": "stdout",
     "output_type": "stream",
     "text": [
      "DKC50-85\n",
      "The hybrid maize is undergoing pollination.\n"
     ]
    }
   ],
   "source": [
    "# HybridMaize is inherited from Maize clas\n",
    "class Maize: # parent class\n",
    "    def __init__(self, variety, height, maturity_days): # constructor\n",
    "        self.variety = variety #attributes\n",
    "        self.height = height\n",
    "        self.maturity_days = maturity_days\n",
    "    \n",
    "    def photosynthesis(self): # method\n",
    "        print(\"The maize is performing photosynthesis.\")\n",
    "\n",
    "\n",
    "class HybridMaize(Maize): # one child class\n",
    "    def __init__(self, variety, height, maturity_days, disease_resistance):\n",
    "        super().__init__(variety, height, maturity_days) # maize class inherited\n",
    "        self.disease_resistance = disease_resistance\n",
    "        print(self.variety)\n",
    "    \n",
    "    def pollination(self):\n",
    "        print(\"The hybrid maize is undergoing pollination.\")\n",
    "\n",
    "#maize = Maize(\"Pioneer\", 180, 120) # object\n",
    "hybrid_maize = HybridMaize(\"DKC50-85\", 200, 125, \"high\")\n",
    "#maize.photosynthesis()\n",
    "hybrid_maize.pollination()"
   ]
  },
  {
   "cell_type": "code",
   "execution_count": null,
   "id": "7fff3edb",
   "metadata": {},
   "outputs": [],
   "source": []
  }
 ],
 "metadata": {
  "kernelspec": {
   "display_name": "Python 3 (ipykernel)",
   "language": "python",
   "name": "python3"
  },
  "language_info": {
   "codemirror_mode": {
    "name": "ipython",
    "version": 3
   },
   "file_extension": ".py",
   "mimetype": "text/x-python",
   "name": "python",
   "nbconvert_exporter": "python",
   "pygments_lexer": "ipython3",
   "version": "3.9.12"
  }
 },
 "nbformat": 4,
 "nbformat_minor": 5
}
