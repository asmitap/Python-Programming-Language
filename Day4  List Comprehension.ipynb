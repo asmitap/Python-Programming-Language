{
 "cells": [
  {
   "cell_type": "markdown",
   "id": "89cabfaa",
   "metadata": {},
   "source": [
    "## List Comprehension\n",
    "<ul>\n",
    "    <li>It offers a shorter syntax when we want to create a new list based on the values of an existing list. </li>\n",
    "</ul>"
   ]
  },
  {
   "cell_type": "markdown",
   "id": "9bfdf73f",
   "metadata": {},
   "source": [
    "## Without using list comprehension"
   ]
  },
  {
   "cell_type": "code",
   "execution_count": 1,
   "id": "e58e8796",
   "metadata": {},
   "outputs": [
    {
     "name": "stdout",
     "output_type": "stream",
     "text": [
      "['apple', 'banana', 'mango']\n"
     ]
    }
   ],
   "source": [
    "# Fruits name having a letter\n",
    "fruits = [\"apple\", \"banana\", \"kiwi\", \"mango\"]\n",
    "newlist = []\n",
    "for x in fruits:\n",
    "  if \"a\" in x:\n",
    "    newlist.append(x)\n",
    "print(newlist)"
   ]
  },
  {
   "cell_type": "markdown",
   "id": "e58cdc64",
   "metadata": {},
   "source": [
    "## Using List Comprehensions"
   ]
  },
  {
   "cell_type": "code",
   "execution_count": 2,
   "id": "f11b8964",
   "metadata": {},
   "outputs": [
    {
     "name": "stdout",
     "output_type": "stream",
     "text": [
      "['apple', 'banana', 'mango']\n"
     ]
    }
   ],
   "source": [
    "fruits = [\"apple\", \"banana\", \"cherry\", \"kiwi\", \"mango\"]\n",
    "newlist = [x for x in fruits if \"a\" in x]\n",
    "print(newlist) "
   ]
  },
  {
   "cell_type": "markdown",
   "id": "89a5e125",
   "metadata": {},
   "source": [
    "## Lambda Function\n",
    "<ul><li>It is the shorthand representations of Python functions. Using list comprehensions with lambda creates an efficient combination. </li></ul>"
   ]
  },
  {
   "cell_type": "markdown",
   "id": "28a1f813",
   "metadata": {},
   "source": [
    "## Without using List Compressions"
   ]
  },
  {
   "cell_type": "code",
   "execution_count": 3,
   "id": "e905ef2f",
   "metadata": {},
   "outputs": [
    {
     "name": "stdout",
     "output_type": "stream",
     "text": [
      "Crop yields:  500\n",
      "Crop yields:  600\n",
      "Crop yields:  700\n",
      "Crop yields:  800\n"
     ]
    }
   ],
   "source": [
    "# crop that yields are above 500\n",
    "crop_yields = [500, 600, 700, 400, 800, 300]\n",
    "for i in crop_yields:\n",
    "    if i>=500:\n",
    "        print(\"Crop yields: \",i)\n"
   ]
  },
  {
   "cell_type": "markdown",
   "id": "10a65591",
   "metadata": {},
   "source": [
    "## Using lambda function"
   ]
  },
  {
   "cell_type": "code",
   "execution_count": 4,
   "id": "65541df0",
   "metadata": {},
   "outputs": [
    {
     "name": "stdout",
     "output_type": "stream",
     "text": [
      "[500, 600, 700, 800]\n"
     ]
    }
   ],
   "source": [
    "crop_yields = [500, 600, 700, 400, 800, 300]\n",
    "# Filter out yields that are below 500 using a lambda function\n",
    "good_yields = list(filter(lambda x: x >= 500, crop_yields))\n",
    "print(good_yields)  # Output: [500, 600, 700, 800]\n"
   ]
  },
  {
   "cell_type": "markdown",
   "id": "43491616",
   "metadata": {},
   "source": [
    "## Using list comprehension and Lambda Function"
   ]
  },
  {
   "cell_type": "code",
   "execution_count": 5,
   "id": "0304da2f",
   "metadata": {},
   "outputs": [
    {
     "name": "stdout",
     "output_type": "stream",
     "text": [
      "[500, 600, 700, 800]\n"
     ]
    }
   ],
   "source": [
    "crop_yields = [500, 600, 700, 400, 800, 300]\n",
    "# Filter out yields that are below 500 using a lambda function in list comprehension\n",
    "good_yields = [yield_data for yield_data in crop_yields if (lambda x: x >= 500)(yield_data)]\n",
    "print(good_yields)  # Output: [500, 600, 700, 800]"
   ]
  }
 ],
 "metadata": {
  "kernelspec": {
   "display_name": "Python 3 (ipykernel)",
   "language": "python",
   "name": "python3"
  },
  "language_info": {
   "codemirror_mode": {
    "name": "ipython",
    "version": 3
   },
   "file_extension": ".py",
   "mimetype": "text/x-python",
   "name": "python",
   "nbconvert_exporter": "python",
   "pygments_lexer": "ipython3",
   "version": "3.9.12"
  }
 },
 "nbformat": 4,
 "nbformat_minor": 5
}
