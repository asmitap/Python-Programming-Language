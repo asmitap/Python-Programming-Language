{
 "cells": [
  {
   "cell_type": "markdown",
   "id": "d3ea086e",
   "metadata": {},
   "source": [
    "## Encapsulation\n",
    "Encapsulation is a programming concept that refers to the practice of hiding implementation details from the user and providing an interface to access the functionality."
   ]
  },
  {
   "cell_type": "code",
   "execution_count": 1,
   "id": "24c598c3",
   "metadata": {},
   "outputs": [
    {
     "name": "stdout",
     "output_type": "stream",
     "text": [
      "Maize 1\n",
      "Hybrid\n",
      "V1\n",
      "V2\n"
     ]
    }
   ],
   "source": [
    "class Maize:\n",
    "    def __init__(self, name, variety, growth_stage):\n",
    "        self.__name = name\n",
    "        self.__variety = variety\n",
    "        self.__growth_stage = growth_stage\n",
    "    \n",
    "    def get_name(self):\n",
    "        return self.__name\n",
    "    \n",
    "    def get_variety(self):\n",
    "        return self.__variety\n",
    "    \n",
    "    def get_growth_stage(self):\n",
    "        return self.__growth_stage\n",
    "    \n",
    "    def set_growth_stage(self, new_stage):\n",
    "        self.__growth_stage = new_stage\n",
    "\n",
    "maize1 = Maize(\"Maize 1\", \"Hybrid\", \"V1\")\n",
    "print(maize1.get_name())\n",
    "print(maize1.get_variety())\n",
    "print(maize1.get_growth_stage())\n",
    "\n",
    "maize1.set_growth_stage(\"V2\")\n",
    "print(maize1.get_growth_stage())\n"
   ]
  },
  {
   "cell_type": "markdown",
   "id": "9ecaf08e",
   "metadata": {},
   "source": [
    "The set_growth_stage method is used to update the growth_stage attribute, but it is encapsulated using the double underscore prefix to make it private. This means that the attribute can only be modified within the class, and any attempts to modify it from outside the class will result in an AttributeError."
   ]
  },
  {
   "cell_type": "code",
   "execution_count": 2,
   "id": "2ad0b65c",
   "metadata": {},
   "outputs": [
    {
     "ename": "AttributeError",
     "evalue": "'HybridMaize' object has no attribute 'variety'",
     "output_type": "error",
     "traceback": [
      "\u001b[0;31m---------------------------------------------------------------------------\u001b[0m",
      "\u001b[0;31mAttributeError\u001b[0m                            Traceback (most recent call last)",
      "Input \u001b[0;32mIn [2]\u001b[0m, in \u001b[0;36m<cell line: 9>\u001b[0;34m()\u001b[0m\n\u001b[1;32m      6\u001b[0m     \u001b[38;5;28;01mdef\u001b[39;00m \u001b[38;5;21mset_growth_stage\u001b[39m(\u001b[38;5;28mself\u001b[39m, new_stage):\n\u001b[1;32m      7\u001b[0m         \u001b[38;5;28mself\u001b[39m\u001b[38;5;241m.\u001b[39m__growth_stage \u001b[38;5;241m=\u001b[39m new_stage\n\u001b[0;32m----> 9\u001b[0m hybrid_maize \u001b[38;5;241m=\u001b[39m \u001b[43mHybridMaize\u001b[49m\u001b[43m(\u001b[49m\u001b[38;5;124;43m\"\u001b[39;49m\u001b[38;5;124;43mMaize 1\u001b[39;49m\u001b[38;5;124;43m\"\u001b[39;49m\u001b[43m,\u001b[49m\u001b[43m \u001b[49m\u001b[38;5;124;43m\"\u001b[39;49m\u001b[38;5;124;43mHybrid\u001b[39;49m\u001b[38;5;124;43m\"\u001b[39;49m\u001b[43m,\u001b[49m\u001b[43m \u001b[49m\u001b[38;5;124;43m\"\u001b[39;49m\u001b[38;5;124;43mV1\u001b[39;49m\u001b[38;5;124;43m\"\u001b[39;49m\u001b[43m)\u001b[49m\n\u001b[1;32m     10\u001b[0m \u001b[38;5;28mprint\u001b[39m(hybrid_maize\u001b[38;5;241m.\u001b[39mset_growth_stage(\u001b[38;5;124m\"\u001b[39m\u001b[38;5;124mv2\u001b[39m\u001b[38;5;124m\"\u001b[39m))\n",
      "Input \u001b[0;32mIn [2]\u001b[0m, in \u001b[0;36mHybridMaize.__init__\u001b[0;34m(self, name, variety, growth_stage)\u001b[0m\n\u001b[1;32m      2\u001b[0m \u001b[38;5;28;01mdef\u001b[39;00m \u001b[38;5;21m__init__\u001b[39m(\u001b[38;5;28mself\u001b[39m, name, variety, growth_stage):\n\u001b[1;32m      3\u001b[0m     \u001b[38;5;28msuper\u001b[39m()\u001b[38;5;241m.\u001b[39m\u001b[38;5;21m__init__\u001b[39m(name, variety, growth_stage) \u001b[38;5;66;03m# maize class inherited\u001b[39;00m\n\u001b[0;32m----> 4\u001b[0m     \u001b[38;5;28mprint\u001b[39m(\u001b[38;5;28;43mself\u001b[39;49m\u001b[38;5;241;43m.\u001b[39;49m\u001b[43mvariety\u001b[49m)\n",
      "\u001b[0;31mAttributeError\u001b[0m: 'HybridMaize' object has no attribute 'variety'"
     ]
    }
   ],
   "source": [
    "class HybridMaize(Maize): # one child class\n",
    "    def __init__(self, name, variety, growth_stage):\n",
    "        super().__init__(name, variety, growth_stage) # maize class inherited\n",
    "        print(self.variety)\n",
    "    \n",
    "    def set_growth_stage(self, new_stage):\n",
    "        self.__growth_stage = new_stage\n",
    "        \n",
    "hybrid_maize = HybridMaize(\"Maize 1\", \"Hybrid\", \"V1\")\n",
    "print(hybrid_maize.set_growth_stage(\"v2\"))"
   ]
  }
 ],
 "metadata": {
  "kernelspec": {
   "display_name": "Python 3 (ipykernel)",
   "language": "python",
   "name": "python3"
  },
  "language_info": {
   "codemirror_mode": {
    "name": "ipython",
    "version": 3
   },
   "file_extension": ".py",
   "mimetype": "text/x-python",
   "name": "python",
   "nbconvert_exporter": "python",
   "pygments_lexer": "ipython3",
   "version": "3.9.12"
  }
 },
 "nbformat": 4,
 "nbformat_minor": 5
}
