{
 "cells": [
  {
   "cell_type": "markdown",
   "id": "aaaa82f9",
   "metadata": {},
   "source": [
    "## Reading file"
   ]
  },
  {
   "cell_type": "markdown",
   "id": "035f36c8",
   "metadata": {},
   "source": [
    "## read()\n",
    "It return entire content of file"
   ]
  },
  {
   "cell_type": "code",
   "execution_count": 1,
   "id": "8356ce94",
   "metadata": {},
   "outputs": [
    {
     "name": "stdout",
     "output_type": "stream",
     "text": [
      "Nepal Agricultural Research Council (NARC) was established in 1991 as an autonomous organization under \"Nepal Agricultural Research Council Act - 1991\" to conduct agricultural research in the country to uplift the economic level of the people.\n",
      "\n"
     ]
    }
   ],
   "source": [
    "# open the file with the mode r which means \"read\"\n",
    "my_file = open('test.txt', mode = 'r')\n",
    "# read the content of the file storing it in a variable called data\n",
    "data = my_file.read()\n",
    "print(data)\n",
    "# close the connection\n",
    "my_file.close()"
   ]
  },
  {
   "cell_type": "markdown",
   "id": "d1ef4be1",
   "metadata": {},
   "source": [
    "## readline()\n",
    "It return the line of the file"
   ]
  },
  {
   "cell_type": "code",
   "execution_count": 2,
   "id": "18006bd7",
   "metadata": {},
   "outputs": [
    {
     "name": "stdout",
     "output_type": "stream",
     "text": [
      "Nepal Agricultural Research Council (NARC) was established in 1991 as an autonomous organization under \"Nepal Agricultural Research Council Act - 1991\" to conduct agricultural research in the country to uplift the economic level of the people.\n",
      "\n"
     ]
    }
   ],
   "source": [
    "with open('test.txt', mode = 'r') as my_file:\n",
    "    data = my_file.readline()\n",
    "    print(data)"
   ]
  },
  {
   "cell_type": "markdown",
   "id": "c41bd92c",
   "metadata": {},
   "source": [
    "## readlines()\n",
    "It return entire content as the list, each element corresponds to a line"
   ]
  },
  {
   "cell_type": "code",
   "execution_count": 3,
   "id": "3762ea19",
   "metadata": {},
   "outputs": [
    {
     "name": "stdout",
     "output_type": "stream",
     "text": [
      "['Nepal Agricultural Research Council (NARC) was established in 1991 as an autonomous organization under \"Nepal Agricultural Research Council Act - 1991\" to conduct agricultural research in the country to uplift the economic level of the people.\\n']\n"
     ]
    }
   ],
   "source": [
    "with open('test.txt', mode = 'r') as my_file:\n",
    "    \n",
    "    data = my_file.readlines()\n",
    "    print(data)"
   ]
  },
  {
   "cell_type": "markdown",
   "id": "8c05801d",
   "metadata": {},
   "source": [
    "## Writing file\n",
    "It made new file if doesnot exist and replace the old text in the file."
   ]
  },
  {
   "cell_type": "code",
   "execution_count": 4,
   "id": "d6d6d3e3",
   "metadata": {},
   "outputs": [],
   "source": [
    "\n",
    "with open('test.txt', mode='w') as my_file:\n",
    "    # add text to the new file\n",
    "    my_file.write('This platform will also be channeled to gather/explore all the historical agriculture research publications by encouraging its potential users to share any information on agricultural sector.')"
   ]
  },
  {
   "cell_type": "code",
   "execution_count": 5,
   "id": "35a12824",
   "metadata": {},
   "outputs": [
    {
     "name": "stdout",
     "output_type": "stream",
     "text": [
      "This platform will also be channeled to gather/explore all the historical agriculture research publications by encouraging its potential users to share any information on agricultural sector.\n"
     ]
    }
   ],
   "source": [
    "with open('test.txt', mode = 'r') as my_file:\n",
    "    data = my_file.read()\n",
    "    print(data)"
   ]
  },
  {
   "cell_type": "markdown",
   "id": "4ef31798",
   "metadata": {},
   "source": [
    "## Append file\n",
    "It append the text on the file."
   ]
  },
  {
   "cell_type": "code",
   "execution_count": 6,
   "id": "8e987665",
   "metadata": {},
   "outputs": [],
   "source": [
    "with open('test.txt', mode='a') as my_file:\n",
    "    \n",
    "    # append new lines\n",
    "    my_file.writelines('This is an effort to digitize all available publication, historical data and research materials that are published by NARC and its different offices, Nepal Agricultural Research Service Center (NARSC), Lumle Agricultural Center (LAC), Pakhribas Agricultural Center (PAC) and other related organization and institutions. In addition, NARC KMS aims to bring wider stakeholders related to agricultural research and development in one platform in order to intensify the constructive criticism and suggestions which will ultimately benefits the agricultural production in Nepal.')"
   ]
  },
  {
   "cell_type": "code",
   "execution_count": 7,
   "id": "29041c64",
   "metadata": {},
   "outputs": [
    {
     "name": "stdout",
     "output_type": "stream",
     "text": [
      "This platform will also be channeled to gather/explore all the historical agriculture research publications by encouraging its potential users to share any information on agricultural sector.This is an effort to digitize all available publication, historical data and research materials that are published by NARC and its different offices, Nepal Agricultural Research Service Center (NARSC), Lumle Agricultural Center (LAC), Pakhribas Agricultural Center (PAC) and other related organization and institutions. In addition, NARC KMS aims to bring wider stakeholders related to agricultural research and development in one platform in order to intensify the constructive criticism and suggestions which will ultimately benefits the agricultural production in Nepal.\n"
     ]
    }
   ],
   "source": [
    "with open('test.txt', mode = 'r') as my_file:\n",
    "    data = my_file.read()\n",
    "    print(data)"
   ]
  },
  {
   "cell_type": "markdown",
   "id": "0da8c9c9",
   "metadata": {},
   "source": [
    "## Exception handling"
   ]
  },
  {
   "cell_type": "code",
   "execution_count": 8,
   "id": "3d3c50d3",
   "metadata": {},
   "outputs": [
    {
     "name": "stdout",
     "output_type": "stream",
     "text": [
      "File not found\n"
     ]
    }
   ],
   "source": [
    "try:\n",
    "    with open('nonexisting.txt', mode = 'r') as my_file:\n",
    "        data = my_file.readline()\n",
    "        print(data)\n",
    "except FileNotFoundError as e:\n",
    "    print(\"File not found\")"
   ]
  },
  {
   "cell_type": "code",
   "execution_count": 9,
   "id": "141762d3",
   "metadata": {},
   "outputs": [
    {
     "name": "stdout",
     "output_type": "stream",
     "text": [
      "This platform will also be channeled to gather/explore all the historical agriculture research publications by encouraging its potential users to share any information on agricultural sector.This is an effort to digitize all available publication, historical data and research materials that are published by NARC and its different offices, Nepal Agricultural Research Service Center (NARSC), Lumle Agricultural Center (LAC), Pakhribas Agricultural Center (PAC) and other related organization and institutions. In addition, NARC KMS aims to bring wider stakeholders related to agricultural research and development in one platform in order to intensify the constructive criticism and suggestions which will ultimately benefits the agricultural production in Nepal.\n"
     ]
    }
   ],
   "source": [
    "try:\n",
    "    with open('test.txt', mode = 'r') as my_file:\n",
    "        data = my_file.readline()\n",
    "        print(data)\n",
    "except FileNotFoundError as e:\n",
    "    print(\"File not found\")"
   ]
  },
  {
   "cell_type": "code",
   "execution_count": null,
   "id": "36e5b48b",
   "metadata": {},
   "outputs": [],
   "source": []
  }
 ],
 "metadata": {
  "kernelspec": {
   "display_name": "Python 3 (ipykernel)",
   "language": "python",
   "name": "python3"
  },
  "language_info": {
   "codemirror_mode": {
    "name": "ipython",
    "version": 3
   },
   "file_extension": ".py",
   "mimetype": "text/x-python",
   "name": "python",
   "nbconvert_exporter": "python",
   "pygments_lexer": "ipython3",
   "version": "3.9.12"
  }
 },
 "nbformat": 4,
 "nbformat_minor": 5
}
