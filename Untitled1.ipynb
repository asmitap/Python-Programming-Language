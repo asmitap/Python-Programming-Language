{
 "cells": [
  {
   "cell_type": "code",
   "execution_count": 28,
   "id": "a882db2c",
   "metadata": {},
   "outputs": [
    {
     "name": "stdout",
     "output_type": "stream",
     "text": [
      "2\n"
     ]
    }
   ],
   "source": [
    "def logic(my_input):\n",
    "    # Write your code here and remove pass statement\n",
    "    # Don't print anything. Just return the intended output\n",
    "    # You can create other functions and call from here\n",
    "    sum = 0\n",
    "    for i in my_input:\n",
    "        if i<0:\n",
    "            break\n",
    "        sum += i\n",
    "    return sum\n",
    "\n",
    "# Do not edit below\n",
    "\n",
    "# Get the input\n",
    "my_input = [2,-2,4]\n",
    "\n",
    "# Print output returned from the logic function\n",
    "print(logic(my_input))"
   ]
  },
  {
   "cell_type": "code",
   "execution_count": 29,
   "id": "077cdb6f",
   "metadata": {},
   "outputs": [
    {
     "name": "stdout",
     "output_type": "stream",
     "text": [
      "7\n"
     ]
    }
   ],
   "source": [
    "def logic(my_input):\n",
    "    # Write your code here and remove pass statement\n",
    "    # Don't print anything. Just return the intended output\n",
    "    # You can create other functions and call from here\n",
    "    sum = 0\n",
    "    for i in my_input:\n",
    "        if i<0:\n",
    "            return sum\n",
    "        sum += i\n",
    "    return sum\n",
    "\n",
    "# Do not edit below\n",
    "\n",
    "# Get the input\n",
    "my_input = [1,2,4,-4,5]\n",
    "\n",
    "# Print output returned from the logic function\n",
    "print(logic(my_input))"
   ]
  },
  {
   "cell_type": "code",
   "execution_count": 31,
   "id": "2a1c8e83",
   "metadata": {},
   "outputs": [
    {
     "name": "stdout",
     "output_type": "stream",
     "text": [
      "6\n"
     ]
    }
   ],
   "source": [
    "def logic(my_input):\n",
    "    # Write your code here and remove pass statement\n",
    "    # Don't print anything. Just return the intended output\n",
    "    # You can create other functions and call from here\n",
    "    sum = 0\n",
    "    for i in my_input:\n",
    "        if i<0:\n",
    "            return sum\n",
    "        sum += i\n",
    "    return sum\n",
    "\n",
    "# Do not edit below\n",
    "\n",
    "# Get the input\n",
    "my_input = [1,2,3,-4]\n",
    "\n",
    "# Print output returned from the logic function\n",
    "print(logic(my_input))"
   ]
  },
  {
   "cell_type": "code",
   "execution_count": 2,
   "id": "6316ce2c",
   "metadata": {},
   "outputs": [
    {
     "name": "stdout",
     "output_type": "stream",
     "text": [
      "54\n"
     ]
    }
   ],
   "source": [
    "def logic(my_input):\n",
    "    # Write your code here and remove pass statement\n",
    "    # Don't print anything. Just return the intended output\n",
    "    # You can create other functions and call from here\n",
    "    sum = 0\n",
    "    for i in my_input:\n",
    "        if i<0:\n",
    "            break\n",
    "        sum += i\n",
    "    return sum\n",
    "\n",
    "# Do not edit below\n",
    "\n",
    "# Get the input\n",
    "my_input = [43,5,6,-1,-2,9]\n",
    "\n",
    "# Print output returned from the logic function\n",
    "print(logic(my_input))"
   ]
  },
  {
   "cell_type": "code",
   "execution_count": null,
   "id": "2f95db93",
   "metadata": {},
   "outputs": [],
   "source": []
  }
 ],
 "metadata": {
  "kernelspec": {
   "display_name": "Python 3 (ipykernel)",
   "language": "python",
   "name": "python3"
  },
  "language_info": {
   "codemirror_mode": {
    "name": "ipython",
    "version": 3
   },
   "file_extension": ".py",
   "mimetype": "text/x-python",
   "name": "python",
   "nbconvert_exporter": "python",
   "pygments_lexer": "ipython3",
   "version": "3.9.12"
  }
 },
 "nbformat": 4,
 "nbformat_minor": 5
}
