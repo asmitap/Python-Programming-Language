{
 "cells": [
  {
   "cell_type": "markdown",
   "id": "befd2419",
   "metadata": {},
   "source": [
    "## Pandas\n",
    "Use to analyze data."
   ]
  },
  {
   "cell_type": "code",
   "execution_count": 1,
   "id": "885e00ce",
   "metadata": {},
   "outputs": [],
   "source": [
    "import pandas as pd"
   ]
  },
  {
   "cell_type": "markdown",
   "id": "8573f079",
   "metadata": {},
   "source": [
    "## Series\n",
    "It is one-dimensional array holding data of any type."
   ]
  },
  {
   "cell_type": "code",
   "execution_count": 2,
   "id": "067c0367",
   "metadata": {},
   "outputs": [
    {
     "name": "stdout",
     "output_type": "stream",
     "text": [
      "0    1\n",
      "1    2\n",
      "2    3\n",
      "3    4\n",
      "4    5\n",
      "dtype: int64\n",
      "<class 'pandas.core.series.Series'>\n"
     ]
    }
   ],
   "source": [
    "# creating series\n",
    "data = [1,2,3,4,5]\n",
    "series_data = pd.Series(data)\n",
    "print(series_data)\n",
    "print(type(series_data))"
   ]
  },
  {
   "cell_type": "markdown",
   "id": "61db8caa",
   "metadata": {},
   "source": []
  },
  {
   "cell_type": "code",
   "execution_count": 3,
   "id": "6f24c45e",
   "metadata": {},
   "outputs": [
    {
     "name": "stdout",
     "output_type": "stream",
     "text": [
      "a    1\n",
      "b    2\n",
      "c    3\n",
      "d    4\n",
      "e    5\n",
      "dtype: int64\n"
     ]
    }
   ],
   "source": [
    "# Label the series data\n",
    "series_data = pd.Series(data, index=[\"a\", \"b\",\"c\",\"d\",\"e\"])\n",
    "print(series_data)"
   ]
  },
  {
   "cell_type": "code",
   "execution_count": 4,
   "id": "53635e8b",
   "metadata": {},
   "outputs": [
    {
     "name": "stdout",
     "output_type": "stream",
     "text": [
      "day1    100\n",
      "day2    200\n",
      "day3    300\n",
      "dtype: int64\n"
     ]
    }
   ],
   "source": [
    "# create series from a dictionary\n",
    "calories = {\"day1\":100, \"day2\":200, \"day3\":300}\n",
    "series_data = pd.Series(calories)\n",
    "print(series_data)"
   ]
  },
  {
   "cell_type": "code",
   "execution_count": 5,
   "id": "5d601e28",
   "metadata": {},
   "outputs": [
    {
     "name": "stdout",
     "output_type": "stream",
     "text": [
      "day1    100\n",
      "day2    200\n",
      "dtype: int64\n"
     ]
    }
   ],
   "source": [
    "# create series using only data from \"day1\" and \"day2\"\n",
    "calories = {\"day1\":100, \"day2\":200, \"day3\":300}\n",
    "series_data = pd.Series(calories, index=[\"day1\",\"day2\"])\n",
    "print(series_data)"
   ]
  },
  {
   "cell_type": "markdown",
   "id": "712eb886",
   "metadata": {},
   "source": [
    "## Dataframe\n",
    "It is a two-dimensional data structure i.e data is alined in a tabular fashion in row and columns."
   ]
  },
  {
   "cell_type": "code",
   "execution_count": 6,
   "id": "64a1cc95",
   "metadata": {},
   "outputs": [
    {
     "name": "stdout",
     "output_type": "stream",
     "text": [
      "   calories  duration\n",
      "0       100         5\n",
      "1       200        10\n",
      "2       300        15\n",
      "3       400        20\n"
     ]
    }
   ],
   "source": [
    "# creating dataframe\n",
    "data = {\n",
    "    \"calories\" : [100,200,300,400],\n",
    "    \"duration\" : [5,10,15,20]\n",
    "}\n",
    "df = pd.DataFrame(data)\n",
    "print(df)"
   ]
  }
 ],
 "metadata": {
  "kernelspec": {
   "display_name": "Python 3 (ipykernel)",
   "language": "python",
   "name": "python3"
  },
  "language_info": {
   "codemirror_mode": {
    "name": "ipython",
    "version": 3
   },
   "file_extension": ".py",
   "mimetype": "text/x-python",
   "name": "python",
   "nbconvert_exporter": "python",
   "pygments_lexer": "ipython3",
   "version": "3.9.12"
  }
 },
 "nbformat": 4,
 "nbformat_minor": 5
}
