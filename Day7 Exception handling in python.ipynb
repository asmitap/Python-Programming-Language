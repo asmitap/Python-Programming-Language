{
 "cells": [
  {
   "cell_type": "markdown",
   "id": "faa2e650",
   "metadata": {},
   "source": [
    "## Exception handling\n",
    "An exception is an error which happens at the time of execution of a program. However, while running a program, Python generates an exception that should be handled to avoid program to crash."
   ]
  },
  {
   "cell_type": "markdown",
   "id": "3bda25db",
   "metadata": {},
   "source": [
    "## Error type\n",
    "<ul>\n",
    "    <li>Compile time</li>\n",
    "    <li>Logical</li>\n",
    "    <li>Run time</li>\n",
    "</ul>"
   ]
  },
  {
   "cell_type": "code",
   "execution_count": 1,
   "id": "c7404073",
   "metadata": {},
   "outputs": [
    {
     "name": "stdout",
     "output_type": "stream",
     "text": [
      "5.0\n"
     ]
    }
   ],
   "source": [
    "# here is no error\n",
    "a = 10\n",
    "b = 2\n",
    "c = a/b\n",
    "print(c)"
   ]
  },
  {
   "cell_type": "code",
   "execution_count": 2,
   "id": "207d76ff",
   "metadata": {},
   "outputs": [
    {
     "ename": "ZeroDivisionError",
     "evalue": "division by zero",
     "output_type": "error",
     "traceback": [
      "\u001b[0;31m---------------------------------------------------------------------------\u001b[0m",
      "\u001b[0;31mZeroDivisionError\u001b[0m                         Traceback (most recent call last)",
      "Input \u001b[0;32mIn [2]\u001b[0m, in \u001b[0;36m<cell line: 4>\u001b[0;34m()\u001b[0m\n\u001b[1;32m      2\u001b[0m a \u001b[38;5;241m=\u001b[39m \u001b[38;5;241m10\u001b[39m\n\u001b[1;32m      3\u001b[0m b \u001b[38;5;241m=\u001b[39m \u001b[38;5;241m0\u001b[39m\n\u001b[0;32m----> 4\u001b[0m c \u001b[38;5;241m=\u001b[39m \u001b[43ma\u001b[49m\u001b[38;5;241;43m/\u001b[39;49m\u001b[43mb\u001b[49m \u001b[38;5;66;03m# execution stop \u001b[39;00m\n\u001b[1;32m      5\u001b[0m \u001b[38;5;28mprint\u001b[39m(c) \n\u001b[1;32m      6\u001b[0m \u001b[38;5;28mprint\u001b[39m(\u001b[38;5;124m\"\u001b[39m\u001b[38;5;124mnew information\u001b[39m\u001b[38;5;124m\"\u001b[39m)\n",
      "\u001b[0;31mZeroDivisionError\u001b[0m: division by zero"
     ]
    }
   ],
   "source": [
    "# Error occured\n",
    "a = 10\n",
    "b = 0\n",
    "c = a/b # execution stop \n",
    "print(c) \n",
    "print(\"new information\")"
   ]
  },
  {
   "cell_type": "markdown",
   "id": "bf868cb1",
   "metadata": {},
   "source": [
    "## try except"
   ]
  },
  {
   "cell_type": "code",
   "execution_count": 3,
   "id": "ed8b873e",
   "metadata": {},
   "outputs": [
    {
     "name": "stdout",
     "output_type": "stream",
     "text": [
      "2.5\n"
     ]
    }
   ],
   "source": [
    "a=5\n",
    "b=2\n",
    "try:\n",
    "    print(a/b)\n",
    "except Exception as e:\n",
    "    print(f'{e}')\n"
   ]
  },
  {
   "cell_type": "code",
   "execution_count": 4,
   "id": "9551f3f4",
   "metadata": {},
   "outputs": [
    {
     "name": "stdout",
     "output_type": "stream",
     "text": [
      "division by zero\n"
     ]
    }
   ],
   "source": [
    "a=5\n",
    "b=0\n",
    "try:\n",
    "    print(a/b)\n",
    "except Exception as e:\n",
    "    print(f'{e}')"
   ]
  },
  {
   "cell_type": "code",
   "execution_count": 5,
   "id": "26618f7e",
   "metadata": {},
   "outputs": [
    {
     "name": "stdout",
     "output_type": "stream",
     "text": [
      "Number can not divided by zero.\n"
     ]
    }
   ],
   "source": [
    "a=5\n",
    "b=0\n",
    "try:\n",
    "    print(a/b)\n",
    "except Exception as e:\n",
    "    print(\"Number can not divided by zero.\") # more informative"
   ]
  },
  {
   "cell_type": "code",
   "execution_count": 6,
   "id": "7c64aacc",
   "metadata": {},
   "outputs": [
    {
     "name": "stdout",
     "output_type": "stream",
     "text": [
      "Dabatabse connection open\n",
      "Number can not divided by zero.\n"
     ]
    }
   ],
   "source": [
    "# no close operation\n",
    "a=5\n",
    "b=0\n",
    "try:\n",
    "    print(\"Dabatabse connection open\")\n",
    "    print(a/b)\n",
    "    print(\"Dabatabse connection close\")\n",
    "except Exception as e:\n",
    "    print(\"Number can not divided by zero.\")"
   ]
  },
  {
   "cell_type": "code",
   "execution_count": 7,
   "id": "baccf35f",
   "metadata": {},
   "outputs": [
    {
     "name": "stdout",
     "output_type": "stream",
     "text": [
      "Dabatabse connection open\n",
      "Number can not divided by zero.\n",
      "Dabatabse connection close\n"
     ]
    }
   ],
   "source": [
    "# close operation but what if the exception does not occur\n",
    "a=5\n",
    "b=0\n",
    "try:\n",
    "    print(\"Dabatabse connection open\")\n",
    "    print(a/b)\n",
    "except Exception as e:\n",
    "    print(\"Number can not divided by zero.\")\n",
    "    print(\"Dabatabse connection close\")"
   ]
  },
  {
   "cell_type": "code",
   "execution_count": 8,
   "id": "60516d0a",
   "metadata": {},
   "outputs": [
    {
     "name": "stdout",
     "output_type": "stream",
     "text": [
      "Dabatabse connection open\n",
      "2.5\n"
     ]
    }
   ],
   "source": [
    "a=5\n",
    "b=2\n",
    "try:\n",
    "    print(\"Dabatabse connection open\")\n",
    "    print(a/b)\n",
    "except Exception as e:\n",
    "    print(\"Number can not divided by zero.\")\n",
    "    print(\"Dabatabse connection close\")"
   ]
  },
  {
   "cell_type": "markdown",
   "id": "07727d0d",
   "metadata": {},
   "source": [
    "## else"
   ]
  },
  {
   "cell_type": "code",
   "execution_count": 9,
   "id": "02a295f5",
   "metadata": {},
   "outputs": [
    {
     "name": "stdout",
     "output_type": "stream",
     "text": [
      "Dabatabse connection open\n",
      "2.5\n",
      "Dabatabse connection close\n"
     ]
    }
   ],
   "source": [
    "a=5\n",
    "b=2\n",
    "try:\n",
    "    print(\"Dabatabse connection open\")\n",
    "    print(a/b)\n",
    "except ZeroDivisionError as e:\n",
    "    print(\"Can not be divided by zero\")\n",
    "else:\n",
    "    print(\"Dabatabse connection close\")"
   ]
  },
  {
   "cell_type": "code",
   "execution_count": 10,
   "id": "6654f17c",
   "metadata": {},
   "outputs": [
    {
     "name": "stdout",
     "output_type": "stream",
     "text": [
      "Dabatabse connection open\n",
      "Can not be divided by zero\n"
     ]
    }
   ],
   "source": [
    "# if the exception occur the else condition doesnot executed so use finally\n",
    "a=5\n",
    "b=0\n",
    "try:\n",
    "    print(\"Dabatabse connection open\")\n",
    "    print(a/b)\n",
    "except ZeroDivisionError as e:\n",
    "    print(\"Can not be divided by zero\")\n",
    "else:\n",
    "    print(\"Dabatabse connection close\")"
   ]
  },
  {
   "cell_type": "markdown",
   "id": "0bfa460c",
   "metadata": {},
   "source": [
    "## finally\n",
    "always executed while exception occur or not"
   ]
  },
  {
   "cell_type": "code",
   "execution_count": 11,
   "id": "ea6c58e7",
   "metadata": {},
   "outputs": [
    {
     "name": "stdout",
     "output_type": "stream",
     "text": [
      "Dabatabse connection open\n",
      "2.5\n",
      "Dabatabse connection close\n"
     ]
    }
   ],
   "source": [
    "a=5\n",
    "b=2\n",
    "try:\n",
    "    print(\"Dabatabse connection open\")\n",
    "    print(a/b)\n",
    "except Exception as e:\n",
    "    print(\"Number can not divided by zero.\")\n",
    "finally:\n",
    "    print(\"Dabatabse connection close\")"
   ]
  },
  {
   "cell_type": "code",
   "execution_count": 12,
   "id": "53254886",
   "metadata": {},
   "outputs": [
    {
     "name": "stdout",
     "output_type": "stream",
     "text": [
      "Dabatabse connection open\n",
      "Number can not divided by zero.\n",
      "Dabatabse connection close\n"
     ]
    }
   ],
   "source": [
    "a=5\n",
    "b=0\n",
    "try:\n",
    "    print(\"Dabatabse connection open\")\n",
    "    print(a/b)\n",
    "except Exception as e:\n",
    "    print(\"Number can not divided by zero.\")\n",
    "finally:\n",
    "    print(\"Dabatabse connection close\")"
   ]
  },
  {
   "cell_type": "markdown",
   "id": "324853b9",
   "metadata": {},
   "source": [
    "## Specific exception handling"
   ]
  },
  {
   "cell_type": "code",
   "execution_count": 13,
   "id": "34236be1",
   "metadata": {},
   "outputs": [
    {
     "name": "stdout",
     "output_type": "stream",
     "text": [
      "Dabatabse connection open\n",
      "division by zero\n",
      "Dabatabse connection close\n"
     ]
    }
   ],
   "source": [
    "a=5\n",
    "b=0\n",
    "try:\n",
    "    print(\"Dabatabse connection open\")\n",
    "    print(a/b)\n",
    "except ZeroDivisionError as e:\n",
    "    print(e)\n",
    "finally:\n",
    "    print(\"Dabatabse connection close\")"
   ]
  },
  {
   "cell_type": "code",
   "execution_count": 14,
   "id": "156e49e6",
   "metadata": {},
   "outputs": [
    {
     "name": "stdout",
     "output_type": "stream",
     "text": [
      "Enter a number2\n",
      "Enter a number0\n",
      "Dabatabse connection open\n",
      "Can not be divided by zero\n",
      "Dabatabse connection close\n"
     ]
    }
   ],
   "source": [
    "a=int(input(\"Enter a number\"))\n",
    "b=int(input(\"Enter a number\"))\n",
    "try:\n",
    "    print(\"Dabatabse connection open\")\n",
    "    print(a/b)\n",
    "except ZeroDivisionError as e:\n",
    "    print(\"Can not be divided by zero\")\n",
    "except ValueError as e1:\n",
    "    print(\"Invalid input\")\n",
    "except Exception as e2:\n",
    "    print(\"Something went wrong\")\n",
    "finally:\n",
    "    print(\"Dabatabse connection close\")"
   ]
  },
  {
   "cell_type": "code",
   "execution_count": null,
   "id": "d802c277",
   "metadata": {},
   "outputs": [],
   "source": []
  }
 ],
 "metadata": {
  "kernelspec": {
   "display_name": "Python 3 (ipykernel)",
   "language": "python",
   "name": "python3"
  },
  "language_info": {
   "codemirror_mode": {
    "name": "ipython",
    "version": 3
   },
   "file_extension": ".py",
   "mimetype": "text/x-python",
   "name": "python",
   "nbconvert_exporter": "python",
   "pygments_lexer": "ipython3",
   "version": "3.9.12"
  }
 },
 "nbformat": 4,
 "nbformat_minor": 5
}
