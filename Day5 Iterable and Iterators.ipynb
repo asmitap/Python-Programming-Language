{
 "cells": [
  {
   "cell_type": "markdown",
   "id": "cc897a5e",
   "metadata": {},
   "source": [
    "## Iterable\n",
    "<br> All value are located in memory location.\n",
    "<br>"
   ]
  },
  {
   "cell_type": "markdown",
   "id": "e6877356",
   "metadata": {},
   "source": [
    "## Paddy Output in million tonnes\n",
    "Farmers of nepal likely to harvest 5.48 million tonnes of paddy.\n",
    "The paddy harvest will produce 3.52 million tonnes of rice after milling while Nepal requires 4 million tonnes annually to feed its population.\n",
    "\n",
    "https://kathmandupost.com/money/2022/12/29/nepali-farmers-likely-to-harvest-5-48-million-tonnes-of-paddy\n",
    "<table>\n",
    "<tr>\n",
    "    <th>Year</th>\n",
    "    <th>Data in Million tonnes</th>\n",
    " </tr>\n",
    "<tr>\n",
    "    <td>2016-17</td>\n",
    "    <td>5.23</td>\n",
    "</tr>\n",
    "<tr>\n",
    "    <td>2017-18</td>\n",
    "    <td>5.15</td>\n",
    "</tr>\n",
    "<tr>\n",
    "    <td>2018-19</td>\n",
    "    <td>5.61</td>\n",
    "</tr>\n",
    "<tr>\n",
    "    <td>2019-20</td>\n",
    "    <td>5.55</td>\n",
    "</tr>\n",
    "<tr>\n",
    "    <td>2020-21</td>\n",
    "    <td>5.62</td>\n",
    "</tr>\n",
    "<tr>\n",
    "    <td>2021-22</td>\n",
    "    <td>5.13</td>\n",
    "</tr>\n",
    "<tr>\n",
    "    <td>2022-23</td>\n",
    "    <td>5.48</td>\n",
    "</tr>\n",
    "</table>"
   ]
  },
  {
   "cell_type": "code",
   "execution_count": 1,
   "id": "ec38bb86",
   "metadata": {},
   "outputs": [
    {
     "name": "stdout",
     "output_type": "stream",
     "text": [
      "5.23\n",
      "5.15\n",
      "5.61\n",
      "5.55\n",
      "5.62\n",
      "5.13\n",
      "5.48\n"
     ]
    }
   ],
   "source": [
    "# list is iterable\n",
    "paddy_production = [5.23,5.15, 5.61, 5.55, 5.62, 5.13, 5.48]\n",
    "for paddy in paddy_production:\n",
    "    print(paddy)"
   ]
  },
  {
   "cell_type": "markdown",
   "id": "927bd998",
   "metadata": {},
   "source": [
    "## Iterators\n",
    "iter() convert list into iterators.\n",
    "It is not initialize in the memory location.\n",
    "next() helps to initialize in the memory location."
   ]
  },
  {
   "cell_type": "code",
   "execution_count": 2,
   "id": "c8c4652d",
   "metadata": {},
   "outputs": [
    {
     "data": {
      "text/plain": [
       "<list_iterator at 0x7fa1ec7537c0>"
      ]
     },
     "execution_count": 2,
     "metadata": {},
     "output_type": "execute_result"
    }
   ],
   "source": [
    "iter(paddy_production)"
   ]
  },
  {
   "cell_type": "code",
   "execution_count": 3,
   "id": "b4cb4cda",
   "metadata": {},
   "outputs": [
    {
     "name": "stdout",
     "output_type": "stream",
     "text": [
      "<list_iterator object at 0x7fa1ec753520>\n"
     ]
    }
   ],
   "source": [
    "# convert iterable into iterators\n",
    "paddy_yield = iter(paddy_production)\n",
    "print(paddy_yield)"
   ]
  },
  {
   "cell_type": "code",
   "execution_count": 4,
   "id": "efc3c29a",
   "metadata": {},
   "outputs": [
    {
     "data": {
      "text/plain": [
       "5.23"
      ]
     },
     "execution_count": 4,
     "metadata": {},
     "output_type": "execute_result"
    }
   ],
   "source": [
    "# in order to see/retrive the element one by one by using the next() and next() helps to initialize memory\n",
    "next(paddy_yield)"
   ]
  },
  {
   "cell_type": "markdown",
   "id": "d6668e43",
   "metadata": {},
   "source": [
    "<b>NOTE:</b> In many data,it take more memory using iterables so iterators are used to save memory."
   ]
  },
  {
   "cell_type": "code",
   "execution_count": 5,
   "id": "ba6a6b9f",
   "metadata": {},
   "outputs": [
    {
     "name": "stdout",
     "output_type": "stream",
     "text": [
      "5.15\n",
      "5.61\n",
      "5.55\n",
      "5.62\n",
      "5.13\n",
      "5.48\n"
     ]
    }
   ],
   "source": [
    "# Using for loop iterators can also be retrived.\n",
    "for paddy in paddy_yield:\n",
    "    print(paddy)"
   ]
  },
  {
   "cell_type": "code",
   "execution_count": null,
   "id": "83f6580f",
   "metadata": {},
   "outputs": [],
   "source": []
  }
 ],
 "metadata": {
  "kernelspec": {
   "display_name": "Python 3 (ipykernel)",
   "language": "python",
   "name": "python3"
  },
  "language_info": {
   "codemirror_mode": {
    "name": "ipython",
    "version": 3
   },
   "file_extension": ".py",
   "mimetype": "text/x-python",
   "name": "python",
   "nbconvert_exporter": "python",
   "pygments_lexer": "ipython3",
   "version": "3.9.12"
  }
 },
 "nbformat": 4,
 "nbformat_minor": 5
}
