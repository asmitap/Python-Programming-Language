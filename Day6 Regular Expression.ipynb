{
 "cells": [
  {
   "cell_type": "markdown",
   "id": "9f3ebceb",
   "metadata": {},
   "source": [
    "## Regex application in Data Science\n",
    "\n",
    "A RegEx, or Regular Expression, is a sequence of characters that forms a search pattern with a formal syntax. Regular expressions are typically used in applications that involve a lot of text processing.\n",
    "<ul>\n",
    "    <li>Web scrapping and Data Collection</li>\n",
    "    <li>Text Processing(NLP)</li>\n",
    "    <li>Pattern detection for ID's, Emails, Names</li>\n",
    "    <li>Date time manipulations</li>\n",
    "</ul>"
   ]
  },
  {
   "cell_type": "markdown",
   "id": "b6c29839",
   "metadata": {},
   "source": [
    "\"re\" module provide a set of function that enables to search a string for a match"
   ]
  },
  {
   "cell_type": "markdown",
   "id": "d514385a",
   "metadata": {},
   "source": [
    "## findall() \n",
    "Return a list containing all matches"
   ]
  },
  {
   "cell_type": "code",
   "execution_count": 1,
   "id": "ff9e4cc0",
   "metadata": {},
   "outputs": [
    {
     "name": "stdout",
     "output_type": "stream",
     "text": [
      "['agriculture']\n"
     ]
    }
   ],
   "source": [
    "import re\n",
    "txt = \"According to the World Bank, agriculture is the main source of food, income, and employment for the majority.[2] It provides about 33% of the gross domestic product (GDP).\"\n",
    "find_data = re.findall(\"agriculture\", txt)\n",
    "print(find_data)"
   ]
  },
  {
   "cell_type": "markdown",
   "id": "bb08f3d5",
   "metadata": {},
   "source": [
    "## search() function\n",
    "If the search does not matches it doesnot return any"
   ]
  },
  {
   "cell_type": "code",
   "execution_count": 2,
   "id": "c13057ff",
   "metadata": {},
   "outputs": [
    {
     "name": "stdout",
     "output_type": "stream",
     "text": [
      "<re.Match object; span=(29, 40), match='agriculture'>\n"
     ]
    }
   ],
   "source": [
    "find_data = re.search(\"agriculture\",txt)\n",
    "print(find_data)"
   ]
  },
  {
   "cell_type": "code",
   "execution_count": 3,
   "id": "ac2cf3a8",
   "metadata": {},
   "outputs": [
    {
     "name": "stdout",
     "output_type": "stream",
     "text": [
      "None\n"
     ]
    }
   ],
   "source": [
    "find_data = re.search(\"data\",txt)\n",
    "print(find_data)"
   ]
  },
  {
   "cell_type": "markdown",
   "id": "48a86738",
   "metadata": {},
   "source": [
    "## split() function\n",
    "It return list that shows where the string has been split at each match"
   ]
  },
  {
   "cell_type": "code",
   "execution_count": 4,
   "id": "5ed67749",
   "metadata": {},
   "outputs": [
    {
     "name": "stdout",
     "output_type": "stream",
     "text": [
      "['According', 'to', 'the', 'World', 'Bank,', 'agriculture', 'is', 'the', 'main', 'source', 'of', 'food,', 'income,', 'and', 'employment', 'for', 'the', 'majority.[2]', 'It', 'provides', 'about', '33%', 'of', 'the', 'gross', 'domestic', 'product', '(GDP).']\n"
     ]
    }
   ],
   "source": [
    "find_data = re.split(\"\\s\", txt)\n",
    "print(find_data)"
   ]
  },
  {
   "cell_type": "markdown",
   "id": "ba9ff140",
   "metadata": {},
   "source": [
    "## Metacharacters"
   ]
  },
  {
   "cell_type": "markdown",
   "id": "9b366a71",
   "metadata": {},
   "source": [
    "\"^\"\n",
    "It checks if the string starts with a particular word or character."
   ]
  },
  {
   "cell_type": "code",
   "execution_count": 5,
   "id": "09d5a29c",
   "metadata": {},
   "outputs": [
    {
     "name": "stdout",
     "output_type": "stream",
     "text": [
      "['According']\n"
     ]
    }
   ],
   "source": [
    "find_data = re.findall(\"^According\", txt)\n",
    "print(find_data)"
   ]
  },
  {
   "cell_type": "markdown",
   "id": "8514c5ca",
   "metadata": {},
   "source": [
    "\"$\"\n",
    "<br>\n",
    "It checks if the string ends with particular word or character."
   ]
  },
  {
   "cell_type": "code",
   "execution_count": 6,
   "id": "205370ad",
   "metadata": {},
   "outputs": [
    {
     "name": "stdout",
     "output_type": "stream",
     "text": [
      "[]\n"
     ]
    }
   ],
   "source": [
    "find_data = re.findall(\"$According\", txt)\n",
    "print(find_data)"
   ]
  },
  {
   "cell_type": "code",
   "execution_count": 7,
   "id": "e70a7e65",
   "metadata": {},
   "outputs": [
    {
     "name": "stdout",
     "output_type": "stream",
     "text": [
      "['.']\n"
     ]
    }
   ],
   "source": [
    "find_data = re.findall(\".$\", txt)\n",
    "print(find_data)"
   ]
  },
  {
   "cell_type": "markdown",
   "id": "4c914018",
   "metadata": {},
   "source": [
    "## \"|\"\n",
    "Either / or condition"
   ]
  },
  {
   "cell_type": "code",
   "execution_count": 8,
   "id": "e0c3d56a",
   "metadata": {},
   "outputs": [
    {
     "name": "stdout",
     "output_type": "stream",
     "text": [
      "['agriculture', 'income']\n"
     ]
    }
   ],
   "source": [
    "find_data = re.findall(\"agriculture|income\",txt)\n",
    "print(find_data)"
   ]
  },
  {
   "cell_type": "markdown",
   "id": "e29c2715",
   "metadata": {},
   "source": [
    "## \"+\"\n",
    "It matches one or more occurrences of a character in a string"
   ]
  },
  {
   "cell_type": "code",
   "execution_count": 9,
   "id": "ddc8fff5",
   "metadata": {},
   "outputs": [
    {
     "name": "stdout",
     "output_type": "stream",
     "text": [
      "['th', 'th', 'th', 'th']\n"
     ]
    }
   ],
   "source": [
    "find_data = re.findall(\"th+\", txt)\n",
    "print(find_data)"
   ]
  },
  {
   "cell_type": "markdown",
   "id": "0bda1715",
   "metadata": {},
   "source": [
    "## \"*\"\n",
    "Zero or more occurrence of a character in a string"
   ]
  },
  {
   "cell_type": "code",
   "execution_count": 10,
   "id": "2dbb7ef0",
   "metadata": {},
   "outputs": [
    {
     "name": "stdout",
     "output_type": "stream",
     "text": [
      "['a', 'ag', 'a', 'a', 'a', 'a']\n"
     ]
    }
   ],
   "source": [
    "find_data = re.findall(\"ag*\", txt)\n",
    "print(find_data)"
   ]
  }
 ],
 "metadata": {
  "kernelspec": {
   "display_name": "Python 3 (ipykernel)",
   "language": "python",
   "name": "python3"
  },
  "language_info": {
   "codemirror_mode": {
    "name": "ipython",
    "version": 3
   },
   "file_extension": ".py",
   "mimetype": "text/x-python",
   "name": "python",
   "nbconvert_exporter": "python",
   "pygments_lexer": "ipython3",
   "version": "3.9.12"
  }
 },
 "nbformat": 4,
 "nbformat_minor": 5
}
